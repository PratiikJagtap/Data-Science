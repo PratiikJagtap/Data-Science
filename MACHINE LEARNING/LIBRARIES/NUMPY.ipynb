{
 "cells": [
  {
   "cell_type": "markdown",
   "id": "f63aaa89-1265-48f4-8141-8de8a9071cb5",
   "metadata": {},
   "source": [
    "# NUMPY "
   ]
  },
  {
   "cell_type": "markdown",
   "id": "83168711-4e7f-45c9-ad2a-3c0b3def5aae",
   "metadata": {},
   "source": [
    "## NUMPY BUILT FUNCTIONS \n",
    "1) array creation:\n",
    "   - zeros() -> Array full of zeros\n",
    "   - ones() -> Array full of ones\n",
    "   - full() -> Array full of custom number & It takes two arguments\n",
    "   - linspace() -> \n",
    "   - arrange()\n",
    "   - random()\n",
    "   - eye()\n",
    "     \n",
    "2) array Inspection\n",
    "   - ndim\n",
    "   - shape\n",
    "   - size()\n",
    "   - dtype\n",
    "     \n",
    "3) Reshaping & Combining\n",
    "   - reshape()\n",
    "   - flatten()\n",
    "   - resize()\n",
    "   - concatenate()\n",
    "   - vstack() -> combines arrays row-wise (vertically)\n",
    "   - hstack() -> combines arrays column-wise (horizontally)\n",
    "     \n",
    "4) Splitting\n",
    "   - split()\n",
    "   - vsplit()\n",
    "   - hsplit()\n",
    "     \n",
    "6) Math & Statistics\n",
    "   - len()\n",
    "   - mean()\n",
    "   - median()\n",
    "   - std()\n",
    "   - min()\n",
    "   - max()\n",
    "   - percentile()\n",
    "   - prod()\n",
    "   - sum()\n",
    "   - cumcum() -> cumulative sum\n",
    "     \n",
    "7) Other Functions:\n",
    "   - copy()\n",
    "   - log()\n",
    "   - exp()\n",
    "   - unique() -> Categorical\n",
    "   - nunique() -> numerical\n",
    "   - repeat() repeats the elements in array\n",
    "   - rand() -> this function generates random float numbers\n",
    "   - randn() -> this function generates random float numbers from standerd normal distributions\n",
    "   - randint() -> this function generates random Integer numbers\n",
    "     \n",
    "8) More Important Functions\n",
    "   - Boolean mask -> Select values based on True/False conditions\n",
    "   - np.take() -> Fetch values at given indices\n",
    "   - np.nonzero() -> Get positions where array values are non-zero\n",
    "   - np.where(condition) ->\tGet indices where condition is true\n",
    "   - np.where(cond, a, b) ->If condition is True → pick from a, else pick from b\n",
    "   - np.argwhere() ->\tGet row-column positions of matched values\n",
    "   - np.logical_and() -> Combine multiple conditions with \"AND\"\n",
    "   - np.logical_or() -> Combine multiple conditions with \"OR\"\n",
    "   - corrcoef() –> Compute the correlation coefficient matrix of two arrays\n",
    "     \n",
    "9) Missing values handling\n",
    "    - isnan()\n",
    "    - isinf()\n",
    "    - isinfinite()"
   ]
  },
  {
   "cell_type": "code",
   "execution_count": 17,
   "id": "fbad2e62-d42e-43e7-b468-bdd646884304",
   "metadata": {},
   "outputs": [],
   "source": [
    "import numpy as np"
   ]
  },
  {
   "cell_type": "code",
   "execution_count": 5,
   "id": "7d7705ac-8d87-482a-b0fe-ce15f3116bf4",
   "metadata": {},
   "outputs": [
    {
     "data": {
      "text/plain": [
       "'1.26.4'"
      ]
     },
     "execution_count": 5,
     "metadata": {},
     "output_type": "execute_result"
    }
   ],
   "source": [
    "np.__version__"
   ]
  },
  {
   "cell_type": "code",
   "execution_count": 6,
   "id": "cf79b915-0d33-4b0a-9877-aa06f4db97fd",
   "metadata": {},
   "outputs": [
    {
     "name": "stdout",
     "output_type": "stream",
     "text": [
      "[]\n"
     ]
    }
   ],
   "source": [
    "arr1 = np.array([]) \n",
    "print(arr1)"
   ]
  },
  {
   "cell_type": "code",
   "execution_count": 7,
   "id": "62f3948f-e5d5-4728-bc03-f2fba1acce31",
   "metadata": {},
   "outputs": [
    {
     "data": {
      "text/plain": [
       "numpy.ndarray"
      ]
     },
     "execution_count": 7,
     "metadata": {},
     "output_type": "execute_result"
    }
   ],
   "source": [
    "type(arr1)"
   ]
  },
  {
   "cell_type": "code",
   "execution_count": 8,
   "id": "869ba3f1-d7e1-4df1-9909-57e3cc066b4c",
   "metadata": {},
   "outputs": [
    {
     "name": "stdout",
     "output_type": "stream",
     "text": [
      "[]\n"
     ]
    }
   ],
   "source": [
    "arr2 = np.array(()) \n",
    "print(arr2)"
   ]
  },
  {
   "cell_type": "code",
   "execution_count": 9,
   "id": "09307170-1a55-45d5-9b00-30b1ae430246",
   "metadata": {},
   "outputs": [
    {
     "data": {
      "text/plain": [
       "numpy.ndarray"
      ]
     },
     "execution_count": 9,
     "metadata": {},
     "output_type": "execute_result"
    }
   ],
   "source": [
    "type(arr2)"
   ]
  },
  {
   "cell_type": "code",
   "execution_count": 10,
   "id": "a14a7a61-134b-4ad1-81b5-a178329272e6",
   "metadata": {},
   "outputs": [],
   "source": [
    "# arr1 is created using list & arr2 is created using tuple still both prints list in output"
   ]
  },
  {
   "cell_type": "code",
   "execution_count": 11,
   "id": "509c1a55-8b25-461a-b4ed-80851b42cfb0",
   "metadata": {},
   "outputs": [
    {
     "name": "stdout",
     "output_type": "stream",
     "text": [
      "[1 2 3 4 5]\n"
     ]
    }
   ],
   "source": [
    "my_list = [1,2,3,4,5]\n",
    "a = np.array(my_list)\n",
    "print(a)"
   ]
  },
  {
   "cell_type": "markdown",
   "id": "2e54340c-418a-40ab-8094-a4d71cd66752",
   "metadata": {},
   "source": [
    "### N dimensional array"
   ]
  },
  {
   "cell_type": "code",
   "execution_count": 13,
   "id": "8a551f64-505e-42f4-84ea-9c4ca032d478",
   "metadata": {},
   "outputs": [
    {
     "name": "stdout",
     "output_type": "stream",
     "text": [
      "[1 2 3 4 2 1]\n",
      "dimension of array: 1\n",
      "length of above array:  6\n",
      "shape of above array: (6,)\n"
     ]
    }
   ],
   "source": [
    "# 1D array\n",
    "oneDarray = np.array([1,2,3,4,2,1])\n",
    "print(oneDarray)\n",
    "print('dimension of array:', oneDarray.ndim)\n",
    "print('length of above array: ',len(oneDarray))\n",
    "print(\"shape of above array:\", oneDarray.shape) #(columns,)"
   ]
  },
  {
   "cell_type": "code",
   "execution_count": 14,
   "id": "e253e6c1-1139-4f3b-ab20-d60d632dc31b",
   "metadata": {},
   "outputs": [
    {
     "name": "stdout",
     "output_type": "stream",
     "text": [
      "[[1 2 3 4 3 2]\n",
      " [1 2 3 4 2 1]]\n",
      "length of above array:  2\n",
      "dimension of array: 2\n",
      "shape of above array: (2, 6)\n"
     ]
    }
   ],
   "source": [
    "# 2D array\n",
    "twoDarray = np.array([[1,2,3,4,3,2],[1,2,3,4,2,1]])\n",
    "print(twoDarray)\n",
    "print('length of above array: ',len(twoDarray))\n",
    "print('dimension of array:', twoDarray.ndim)\n",
    "print(\"shape of above array:\", twoDarray.shape) #(rows, columns)"
   ]
  },
  {
   "cell_type": "code",
   "execution_count": 15,
   "id": "932bb677-85d8-46db-a198-9c12e51c2537",
   "metadata": {},
   "outputs": [
    {
     "name": "stdout",
     "output_type": "stream",
     "text": [
      "[[[4 3 2]\n",
      "  [1 2 3]]\n",
      "\n",
      " [[1 2 3]\n",
      "  [1 2 3]]]\n",
      "dimension of array:  3\n",
      "length of above array:  2\n",
      "shape of above array: (2, 2, 3)\n"
     ]
    }
   ],
   "source": [
    "# 3D array\n",
    "threeDarray = np.array([[\n",
    "    [4,3,2],[1,2,3]],\n",
    "    [[1,2,3],[1,2,3],\n",
    "    ]])\n",
    "print(threeDarray)\n",
    "print('dimension of array: ', threeDarray.ndim)\n",
    "print('length of above array: ',len(threeDarray))\n",
    "print(\"shape of above array:\", threeDarray.shape) #(block, rows, columns)"
   ]
  },
  {
   "cell_type": "code",
   "execution_count": 16,
   "id": "4af07302-fb12-4757-af7c-7514c8597086",
   "metadata": {},
   "outputs": [
    {
     "name": "stdout",
     "output_type": "stream",
     "text": [
      "size of var: 8\n",
      "Numpy size of var: 8\n",
      "size of var: (2, 4)\n"
     ]
    }
   ],
   "source": [
    "var = np.array([[1,2,3,4],[5,6,7,8]])\n",
    "print('size of var:',var.size) # this is attribute\n",
    "print('Numpy size of var:',np.size(var)) #this is function\n",
    "print('size of var:',var.shape)"
   ]
  },
  {
   "cell_type": "code",
   "execution_count": 13,
   "id": "1814e458-0a42-499b-a85e-cd3baaf46ae1",
   "metadata": {},
   "outputs": [
    {
     "name": "stdout",
     "output_type": "stream",
     "text": [
      "Len of matrix: 3\n"
     ]
    },
    {
     "data": {
      "text/plain": [
       "7"
      ]
     },
     "execution_count": 13,
     "metadata": {},
     "output_type": "execute_result"
    }
   ],
   "source": [
    "my_matrix = [[1,2,3,4],[5,6,7,8],[8,7,6,5]]\n",
    "print(\"Len of matrix:\",len(my_matrix))\n",
    "my_matrix[1][2]"
   ]
  },
  {
   "cell_type": "code",
   "execution_count": 19,
   "id": "2accfa51-d40c-439f-a704-3e563f322b9d",
   "metadata": {},
   "outputs": [
    {
     "data": {
      "text/plain": [
       "array([[1, 2, 3, 4],\n",
       "       [5, 6, 7, 8],\n",
       "       [8, 7, 6, 5]])"
      ]
     },
     "execution_count": 19,
     "metadata": {},
     "output_type": "execute_result"
    }
   ],
   "source": [
    "b = np.array(my_matrix)\n",
    "b"
   ]
  },
  {
   "cell_type": "markdown",
   "id": "50cb52ae-c692-4606-920d-034740760662",
   "metadata": {},
   "source": [
    "<!-- ### Sclicing on array -->"
   ]
  },
  {
   "cell_type": "code",
   "execution_count": 20,
   "id": "cef81932-aee0-42e9-942e-2498c6c7299a",
   "metadata": {},
   "outputs": [
    {
     "name": "stdout",
     "output_type": "stream",
     "text": [
      "4.416666666666667\n",
      "4.5\n"
     ]
    }
   ],
   "source": [
    "#Numpy dont have mode \n",
    "lists = np.array([[[1,2,6],[5,7,8]],[[5,4,3],[4,5,3]]])\n",
    "print(np.mean(lists))\n",
    "print(np.median(lists))"
   ]
  },
  {
   "cell_type": "code",
   "execution_count": 21,
   "id": "cf8d7638-8c65-4913-8297-7fca87135731",
   "metadata": {},
   "outputs": [
    {
     "data": {
      "text/plain": [
       "array([[[1, 2, 6, 5],\n",
       "        [7, 8, 5, 4],\n",
       "        [3, 4, 5, 3]]])"
      ]
     },
     "execution_count": 21,
     "metadata": {},
     "output_type": "execute_result"
    }
   ],
   "source": [
    "#We can reshape an array using the reshape() function, which is available in NumPy’s array object\n",
    "arr = lists.reshape((1,3,4)) \n",
    "arr"
   ]
  },
  {
   "cell_type": "code",
   "execution_count": 22,
   "id": "17b05e84-66b0-4d31-84f4-7de183c7c043",
   "metadata": {},
   "outputs": [
    {
     "data": {
      "text/plain": [
       "array([[1, 2, 6],\n",
       "       [5, 7, 8],\n",
       "       [5, 4, 3],\n",
       "       [4, 5, 3]])"
      ]
     },
     "execution_count": 22,
     "metadata": {},
     "output_type": "execute_result"
    }
   ],
   "source": [
    "arry = lists.reshape(4,3)\n",
    "arry"
   ]
  },
  {
   "cell_type": "code",
   "execution_count": 23,
   "id": "b59d01d3-0795-4159-8aa4-48a4a0dc3a4e",
   "metadata": {},
   "outputs": [
    {
     "data": {
      "text/plain": [
       "array([1, 2, 6, 5, 7, 8, 5, 4, 3, 4, 5, 3])"
      ]
     },
     "execution_count": 23,
     "metadata": {},
     "output_type": "execute_result"
    }
   ],
   "source": [
    "array = lists.reshape(12)\n",
    "array"
   ]
  },
  {
   "cell_type": "code",
   "execution_count": 24,
   "id": "6f24cefe-8e34-41b0-a43e-1164cd938067",
   "metadata": {},
   "outputs": [
    {
     "data": {
      "text/plain": [
       "array([[[1],\n",
       "        [2],\n",
       "        [6],\n",
       "        [5]],\n",
       "\n",
       "       [[7],\n",
       "        [8],\n",
       "        [5],\n",
       "        [4]],\n",
       "\n",
       "       [[3],\n",
       "        [4],\n",
       "        [5],\n",
       "        [3]]])"
      ]
     },
     "execution_count": 24,
     "metadata": {},
     "output_type": "execute_result"
    }
   ],
   "source": [
    "#We can reshape an array using the resize() function, which is available in NumPy’s array object\n",
    "array.resize((3,4,1)) \n",
    "array"
   ]
  },
  {
   "cell_type": "markdown",
   "id": "02fa8db4-fe93-431c-9abb-35b20b3d3319",
   "metadata": {},
   "source": [
    "#### arange function\n"
   ]
  },
  {
   "cell_type": "code",
   "execution_count": 26,
   "id": "723e7ef6-0e0e-4994-96dc-f7c3ee3b4145",
   "metadata": {},
   "outputs": [
    {
     "name": "stdout",
     "output_type": "stream",
     "text": [
      "[ 2  4  6  8 10 12 14 16 18 20]\n",
      "[10  9  8  7  6  5  4  3]\n"
     ]
    }
   ],
   "source": [
    "print(np.arange(2,21,2))\n",
    "print(np.arange(10,2,-1)) #(start, end, step)"
   ]
  },
  {
   "cell_type": "markdown",
   "id": "d81ad574-8ecd-403d-90aa-e06ca0b3bc7d",
   "metadata": {},
   "source": [
    "#### zeros function\n"
   ]
  },
  {
   "cell_type": "code",
   "execution_count": 28,
   "id": "4da40ddc-f6ef-404c-888a-245d5836209b",
   "metadata": {},
   "outputs": [
    {
     "data": {
      "text/plain": [
       "array([0., 0., 0.])"
      ]
     },
     "execution_count": 28,
     "metadata": {},
     "output_type": "execute_result"
    }
   ],
   "source": [
    "np.zeros(3)"
   ]
  },
  {
   "cell_type": "code",
   "execution_count": 29,
   "id": "64355141-4327-45e9-8393-66b3de90d332",
   "metadata": {},
   "outputs": [
    {
     "data": {
      "text/plain": [
       "array([[0., 0., 0., 0., 0.],\n",
       "       [0., 0., 0., 0., 0.],\n",
       "       [0., 0., 0., 0., 0.],\n",
       "       [0., 0., 0., 0., 0.],\n",
       "       [0., 0., 0., 0., 0.]])"
      ]
     },
     "execution_count": 29,
     "metadata": {},
     "output_type": "execute_result"
    }
   ],
   "source": [
    "np.zeros((5,5))"
   ]
  },
  {
   "cell_type": "code",
   "execution_count": 30,
   "id": "942dbcbf-892a-4781-bf40-2394104822ed",
   "metadata": {},
   "outputs": [
    {
     "data": {
      "text/plain": [
       "array([1., 1., 1.])"
      ]
     },
     "execution_count": 30,
     "metadata": {},
     "output_type": "execute_result"
    }
   ],
   "source": [
    "np.ones(3)"
   ]
  },
  {
   "cell_type": "code",
   "execution_count": 31,
   "id": "603b0524-1f91-4a1c-b36c-ec03df252e50",
   "metadata": {},
   "outputs": [
    {
     "data": {
      "text/plain": [
       "array([[1., 1., 1., 1., 1.],\n",
       "       [1., 1., 1., 1., 1.],\n",
       "       [1., 1., 1., 1., 1.],\n",
       "       [1., 1., 1., 1., 1.],\n",
       "       [1., 1., 1., 1., 1.]])"
      ]
     },
     "execution_count": 31,
     "metadata": {},
     "output_type": "execute_result"
    }
   ],
   "source": [
    "np.ones((5,5))"
   ]
  },
  {
   "cell_type": "code",
   "execution_count": 32,
   "id": "cf8c371d-867b-4c45-acaa-abd5edfd8dd6",
   "metadata": {},
   "outputs": [
    {
     "data": {
      "text/plain": [
       "array([[7, 7],\n",
       "       [7, 7]])"
      ]
     },
     "execution_count": 32,
     "metadata": {},
     "output_type": "execute_result"
    }
   ],
   "source": [
    "np.full((2,2), 7)"
   ]
  },
  {
   "cell_type": "markdown",
   "id": "500a5ed0-b786-4d22-94d4-e309d26b2b3a",
   "metadata": {},
   "source": [
    "#### Linspace Function"
   ]
  },
  {
   "cell_type": "code",
   "execution_count": 34,
   "id": "27eaa85e-5c8c-4154-a8b3-ef9454295a94",
   "metadata": {},
   "outputs": [
    {
     "data": {
      "text/plain": [
       "array([  0,  25,  50,  75, 100])"
      ]
     },
     "execution_count": 34,
     "metadata": {},
     "output_type": "execute_result"
    }
   ],
   "source": [
    "np.linspace(0,100,5, dtype=int)"
   ]
  },
  {
   "cell_type": "code",
   "execution_count": 35,
   "id": "ec6e8a93-7a5f-4912-b1c4-8978c8551c31",
   "metadata": {},
   "outputs": [
    {
     "data": {
      "text/plain": [
       "(array([   1.,  112.,  223.,  334.,  445.,  556.,  667.,  778.,  889.,\n",
       "        1000.]),\n",
       " 111.0)"
      ]
     },
     "execution_count": 35,
     "metadata": {},
     "output_type": "execute_result"
    }
   ],
   "source": [
    "np.linspace(1, 1000, num=10, retstep=True)"
   ]
  },
  {
   "cell_type": "markdown",
   "id": "690f8adb-13a4-40bc-9e38-24a64e5a8d56",
   "metadata": {},
   "source": [
    "#### Eye function"
   ]
  },
  {
   "cell_type": "code",
   "execution_count": 37,
   "id": "d780db57-1381-49ee-aafc-ef883e98a43e",
   "metadata": {},
   "outputs": [
    {
     "data": {
      "text/plain": [
       "array([[1., 0., 0., 0., 0.],\n",
       "       [0., 1., 0., 0., 0.],\n",
       "       [0., 0., 1., 0., 0.],\n",
       "       [0., 0., 0., 1., 0.],\n",
       "       [0., 0., 0., 0., 1.]])"
      ]
     },
     "execution_count": 37,
     "metadata": {},
     "output_type": "execute_result"
    }
   ],
   "source": [
    "np.eye(5)"
   ]
  },
  {
   "cell_type": "code",
   "execution_count": 38,
   "id": "d1d44d92-6581-481e-923b-ecffabab42f0",
   "metadata": {},
   "outputs": [
    {
     "data": {
      "text/plain": [
       "array([[1, 1, 1, 1],\n",
       "       [1, 1, 1, 1],\n",
       "       [1, 1, 1, 1]])"
      ]
     },
     "execution_count": 38,
     "metadata": {},
     "output_type": "execute_result"
    }
   ],
   "source": [
    "big_one = np.ones((3,4), dtype = int)\n",
    "big_one"
   ]
  },
  {
   "cell_type": "code",
   "execution_count": 39,
   "id": "1c1e034f-4573-4107-8a8a-58aac01174da",
   "metadata": {},
   "outputs": [
    {
     "data": {
      "text/plain": [
       "dtype('int32')"
      ]
     },
     "execution_count": 39,
     "metadata": {},
     "output_type": "execute_result"
    }
   ],
   "source": [
    "big_one.dtype"
   ]
  },
  {
   "cell_type": "code",
   "execution_count": 40,
   "id": "c5dd2ec0-5b09-420e-aacf-1baa5d9c32c7",
   "metadata": {},
   "outputs": [
    {
     "data": {
      "text/plain": [
       "numpy.ndarray"
      ]
     },
     "execution_count": 40,
     "metadata": {},
     "output_type": "execute_result"
    }
   ],
   "source": [
    "type(big_one)"
   ]
  },
  {
   "cell_type": "code",
   "execution_count": 41,
   "id": "c2a907b4-6230-4d2c-b8ab-2a9c62d2538f",
   "metadata": {},
   "outputs": [
    {
     "name": "stdout",
     "output_type": "stream",
     "text": [
      "\n",
      " [[3 3 3 3]\n",
      " [3 3 3 3]\n",
      " [3 3 3 3]]\n",
      "\n",
      " [[4 4 4 4]\n",
      " [4 4 4 4]\n",
      " [4 4 4 4]]\n",
      "\n",
      " [[0.33333333 0.33333333 0.33333333 0.33333333]\n",
      " [0.33333333 0.33333333 0.33333333 0.33333333]\n",
      " [0.33333333 0.33333333 0.33333333 0.33333333]]\n",
      "\n",
      " [[21 21 21 21]\n",
      " [21 21 21 21]\n",
      " [21 21 21 21]]\n"
     ]
    }
   ],
   "source": [
    "print('\\n',big_one * 3)\n",
    "print('\\n',big_one + 3)\n",
    "print('\\n',big_one / 3)\n",
    "print('\\n',big_one + 10 * 2)"
   ]
  },
  {
   "cell_type": "code",
   "execution_count": 42,
   "id": "977ae8c8-621e-4599-ba80-bfd838c22a4c",
   "metadata": {},
   "outputs": [
    {
     "name": "stdout",
     "output_type": "stream",
     "text": [
      "\n",
      " [[2 2 2 2]\n",
      " [2 2 2 2]\n",
      " [2 2 2 2]]\n",
      "\n",
      " [[2.6+0.j 2.6+0.j 2.6+0.j 2.6+0.j]\n",
      " [2.6+0.j 2.6+0.j 2.6+0.j 2.6+0.j]\n",
      " [2.6+0.j 2.6+0.j 2.6+0.j 2.6+0.j]]\n",
      "\n",
      " [['2.6' '2.6' '2.6' '2.6']\n",
      " ['2.6' '2.6' '2.6' '2.6']\n",
      " ['2.6' '2.6' '2.6' '2.6']]\n"
     ]
    }
   ],
   "source": [
    "bigger1 = np.array(big_one * 3 - 0.4, dtype = 'int')\n",
    "bigger2 = np.array(big_one * 3 - 0.4, dtype = 'complex')\n",
    "bigger3 = np.array(big_one * 3 - 0.4, dtype = 'str')\n",
    "\n",
    "print('\\n',bigger1)\n",
    "print('\\n',bigger2)\n",
    "print('\\n',bigger3)"
   ]
  },
  {
   "cell_type": "code",
   "execution_count": 43,
   "id": "b1525538-9e95-4283-980e-2d9899e0a6e4",
   "metadata": {},
   "outputs": [
    {
     "data": {
      "text/plain": [
       "array([[[4, 3, 2],\n",
       "        [1, 2, 3]],\n",
       "\n",
       "       [[1, 2, 3],\n",
       "        [1, 2, 3]]])"
      ]
     },
     "execution_count": 43,
     "metadata": {},
     "output_type": "execute_result"
    }
   ],
   "source": [
    "threeDarray"
   ]
  },
  {
   "cell_type": "code",
   "execution_count": 44,
   "id": "6f45815e-a71e-42bc-a45d-f5ed483ec046",
   "metadata": {},
   "outputs": [
    {
     "data": {
      "text/plain": [
       "1.0"
      ]
     },
     "execution_count": 44,
     "metadata": {},
     "output_type": "execute_result"
    }
   ],
   "source": [
    "3/threeDarray[1][1][2]"
   ]
  },
  {
   "cell_type": "code",
   "execution_count": 45,
   "id": "8f2207dc-047a-47c1-ad68-2187b9d33ea6",
   "metadata": {},
   "outputs": [],
   "source": [
    "l1 = [3,2,4,5]\n",
    "l2 = [4,3,2,2]"
   ]
  },
  {
   "cell_type": "code",
   "execution_count": 46,
   "id": "55704262-677e-4105-9aa9-7a4beb41d81e",
   "metadata": {},
   "outputs": [
    {
     "data": {
      "text/plain": [
       "array([7, 5, 6, 7])"
      ]
     },
     "execution_count": 46,
     "metadata": {},
     "output_type": "execute_result"
    }
   ],
   "source": [
    "a1 = np.array(l1)\n",
    "a2 = np.array(l2)\n",
    "a3 = a1 + a2\n",
    "a3"
   ]
  },
  {
   "cell_type": "code",
   "execution_count": 47,
   "id": "9fd7482c-5bdc-4c50-909c-01293e2b5e35",
   "metadata": {},
   "outputs": [
    {
     "data": {
      "text/plain": [
       "array([14, 10, 12, 14])"
      ]
     },
     "execution_count": 47,
     "metadata": {},
     "output_type": "execute_result"
    }
   ],
   "source": [
    "a3 + a3"
   ]
  },
  {
   "cell_type": "code",
   "execution_count": 48,
   "id": "a9d00805-eb02-4e2b-9516-e9a90522a157",
   "metadata": {},
   "outputs": [
    {
     "data": {
      "text/plain": [
       "array([10, 11, 12, 13, 14, 15, 16, 17, 18, 19])"
      ]
     },
     "execution_count": 48,
     "metadata": {},
     "output_type": "execute_result"
    }
   ],
   "source": [
    "threeDarray = np.arange(20)\n",
    "threeDarray[10:]"
   ]
  },
  {
   "cell_type": "code",
   "execution_count": 49,
   "id": "7b989a35-bb3a-4922-9055-3486e066af32",
   "metadata": {},
   "outputs": [
    {
     "data": {
      "text/plain": [
       "array([  0, 100, 100, 100, 100, 100, 100, 100, 100, 100, 100, 100,  12,\n",
       "        13,  14,  15,  16,  17,  18,  19,  20,  21,  22,  23,  24,  25,\n",
       "        26,  27,  28,  29])"
      ]
     },
     "execution_count": 49,
     "metadata": {},
     "output_type": "execute_result"
    }
   ],
   "source": [
    "x = np.arange(30)\n",
    "x[1:12] = 100\n",
    "x"
   ]
  },
  {
   "cell_type": "code",
   "execution_count": 50,
   "id": "c574fa5b-ae2a-493c-bb52-7ce0a3ecefd6",
   "metadata": {},
   "outputs": [
    {
     "name": "stdout",
     "output_type": "stream",
     "text": [
      "0\n",
      "1\n",
      "1\n",
      "2\n",
      "3\n",
      "5\n",
      "8\n",
      "13\n",
      "21\n",
      "34\n"
     ]
    }
   ],
   "source": [
    "def fibo(n):\n",
    "    l1 = [0,1]\n",
    "    a, b = 0, 1\n",
    "    for i in range(n-2):\n",
    "        c = a + b\n",
    "        l1.append(c)\n",
    "        a, b = b, c\n",
    "    return l1\n",
    "\n",
    "result = fibo(10)\n",
    "for i in result:\n",
    "    print(i)"
   ]
  },
  {
   "cell_type": "code",
   "execution_count": 130,
   "id": "f8715dfc-c931-46d6-a18e-40e1f97d06fa",
   "metadata": {},
   "outputs": [],
   "source": [
    "z = np.random.randn(100)"
   ]
  },
  {
   "cell_type": "code",
   "execution_count": 132,
   "id": "63dc4e81-acc7-4763-8e42-3fbbabe2c12b",
   "metadata": {},
   "outputs": [
    {
     "name": "stdout",
     "output_type": "stream",
     "text": [
      "ModeResult(mode=1, count=2)\n",
      "1\n",
      "2\n"
     ]
    }
   ],
   "source": [
    "from scipy.stats import mode # It is used for multiple statistic and math operations\n",
    "a = [1,2,3,4,5,6,6,7,1,2]\n",
    "mode = mode(a)\n",
    "print(mode)\n",
    "print(mode[0])\n",
    "print(mode[1])"
   ]
  },
  {
   "cell_type": "code",
   "execution_count": 134,
   "id": "22721b12-1627-4464-a14d-7cc246bafa9d",
   "metadata": {},
   "outputs": [],
   "source": [
    "import seaborn as sns"
   ]
  },
  {
   "cell_type": "code",
   "execution_count": 136,
   "id": "fb6199c5-4f72-4515-8939-850fceb1524c",
   "metadata": {},
   "outputs": [
    {
     "data": {
      "text/plain": [
       "<Axes: ylabel='Density'>"
      ]
     },
     "execution_count": 136,
     "metadata": {},
     "output_type": "execute_result"
    },
    {
     "data": {
      "image/png": "[encoded data removed]",
      "text/plain": [
       "<Figure size 640x480 with 1 Axes>"
      ]
     },
     "metadata": {},
     "output_type": "display_data"
    }
   ],
   "source": [
    "plot = sns.kdeplot(z)\n",
    "plot"
   ]
  },
  {
   "cell_type": "code",
   "execution_count": 138,
   "id": "6003d7f5-4a96-4ce2-ad52-bbd2f0b634eb",
   "metadata": {},
   "outputs": [
    {
     "data": {
      "text/plain": [
       "<Axes: ylabel='Count'>"
      ]
     },
     "execution_count": 138,
     "metadata": {},
     "output_type": "execute_result"
    },
    {
     "data": {
      "image/png": "[encoded data removed]",
      "text/plain": [
       "<Figure size 640x480 with 1 Axes>"
      ]
     },
     "metadata": {},
     "output_type": "display_data"
    }
   ],
   "source": [
    "sns.histplot(z)"
   ]
  },
  {
   "cell_type": "code",
   "execution_count": 140,
   "id": "85436cbc-cce5-4d75-819e-e78a2d2fa7a5",
   "metadata": {},
   "outputs": [
    {
     "data": {
      "text/plain": [
       "0.08251226664452124"
      ]
     },
     "execution_count": 140,
     "metadata": {},
     "output_type": "execute_result"
    }
   ],
   "source": [
    "np.median(z)"
   ]
  },
  {
   "cell_type": "code",
   "execution_count": 142,
   "id": "61792a2a-0ec0-4277-b6a0-552c19e6d942",
   "metadata": {},
   "outputs": [
    {
     "name": "stdout",
     "output_type": "stream",
     "text": [
      "time to aggregate elements from each of the iterables\n",
      "list:\n",
      "27.991771697998047\n",
      "numpy array:\n",
      "1.0025501251220703\n"
     ]
    }
   ],
   "source": [
    "import time \n",
    "import numpy as np\n",
    "\n",
    "size = 200000\n",
    "\n",
    "list1 = range(size)\n",
    "list2 = range(size)\n",
    "start_list = time.time()\n",
    "result1 = [(x,y) for x, y in zip(list1, list2)]\n",
    "print(\"time to aggregate elements from each of the iterables\")\n",
    "print(\"list:\")\n",
    "print((time.time() - start_list) * 1000)\n",
    "\n",
    "arra1 = np.arange(size)\n",
    "arra2 = np.arange(size)\n",
    "start_array = time.time()\n",
    "result2 = arra1 + arra2\n",
    "print(\"numpy array:\")\n",
    "print((time.time() - start_array) * 1000)"
   ]
  },
  {
   "cell_type": "code",
   "execution_count": 144,
   "id": "4269d4d7-f02f-4642-8d7f-f9bf946cbddc",
   "metadata": {},
   "outputs": [
    {
     "data": {
      "text/plain": [
       "array([ True,  True,  True,  True,  True,  True,  True,  True, False,\n",
       "        True,  True,  True,  True,  True,  True,  True, False, False,\n",
       "        True])"
      ]
     },
     "execution_count": 144,
     "metadata": {},
     "output_type": "execute_result"
    }
   ],
   "source": [
    "r = np.array([1,3,4,5,6,4,4,3,3333333,3,3,3,2,5,3,45,456,345,2])\n",
    "r<100 # this is showing output in boolean "
   ]
  },
  {
   "cell_type": "code",
   "execution_count": 145,
   "id": "bd615e91-0633-4996-9e95-825dc4e0c682",
   "metadata": {},
   "outputs": [
    {
     "data": {
      "text/plain": [
       "(array([ 0,  1,  2,  3,  4,  5,  6,  7,  9, 10, 11, 12, 13, 14, 15, 18],\n",
       "       dtype=int64),)"
      ]
     },
     "execution_count": 145,
     "metadata": {},
     "output_type": "execute_result"
    }
   ],
   "source": [
    "np.where(r<100) # this is returning output according to condition"
   ]
  },
  {
   "cell_type": "code",
   "execution_count": 148,
   "id": "5510b7f7-b5fb-49be-a5b6-089b3931be8a",
   "metadata": {},
   "outputs": [
    {
     "data": {
      "text/plain": [
       "array([ 1,  3,  4,  5,  6,  4,  4,  3, 10,  3,  3,  3,  2,  5,  3, 45, 10,\n",
       "       10,  2])"
      ]
     },
     "execution_count": 148,
     "metadata": {},
     "output_type": "execute_result"
    }
   ],
   "source": [
    "r[np.where(r>100)]=10 # this replace values that are grater than the given  condition\n",
    "r"
   ]
  },
  {
   "cell_type": "code",
   "execution_count": 150,
   "id": "feb51442-a2bd-45f5-9fd5-a9f1f1652ca8",
   "metadata": {},
   "outputs": [
    {
     "name": "stdin",
     "output_type": "stream",
     "text": [
      "enter a number:  5\n",
      "enter a number: 5\n"
     ]
    },
    {
     "name": "stdout",
     "output_type": "stream",
     "text": [
      "sum of a and b is  10\n"
     ]
    }
   ],
   "source": [
    "a,b = int(input(\"enter a number: \")),int(input(\"enter a number:\"))\n",
    "print(\"sum of a and b is \", (a+b))"
   ]
  },
  {
   "cell_type": "code",
   "execution_count": 195,
   "id": "e4294cbd-c395-49a6-9306-a16a3816d44f",
   "metadata": {},
   "outputs": [
    {
     "data": {
      "text/plain": [
       "array([[1, 2, 3, 4, 5],\n",
       "       [7, 6, 4, 5, 6],\n",
       "       [2, 3, 7, 8, 9]])"
      ]
     },
     "execution_count": 195,
     "metadata": {},
     "output_type": "execute_result"
    }
   ],
   "source": [
    "arr_2d = np.array(([1,2,3,4,5],[7,6,4,5,6],[2,3,7,8,9]))\n",
    "arr_2d"
   ]
  },
  {
   "cell_type": "markdown",
   "id": "22c9578b-374e-44b6-b9a5-9532eeee6793",
   "metadata": {},
   "source": [
    "## Slicing indexing\n",
    "-  for two dimension array : [row_start:row_end, col_start:col_end]\n",
    "-  for three dimension array : [block_start:block_end, row_start:row_end, col_start:col_end]\n"
   ]
  },
  {
   "cell_type": "code",
   "execution_count": 199,
   "id": "2e5f005b-4dc7-405c-9b56-dab52fdc8bfd",
   "metadata": {},
   "outputs": [
    {
     "data": {
      "text/plain": [
       "array([[1, 2, 3, 4, 5],\n",
       "       [7, 6, 4, 5, 6],\n",
       "       [2, 3, 7, 8, 9]])"
      ]
     },
     "execution_count": 199,
     "metadata": {},
     "output_type": "execute_result"
    }
   ],
   "source": [
    "arr_2d"
   ]
  },
  {
   "cell_type": "code",
   "execution_count": 209,
   "id": "87ffa4f2-d499-4568-bcef-f8f53065cf6b",
   "metadata": {},
   "outputs": [
    {
     "data": {
      "text/plain": [
       "array([[4, 5],\n",
       "       [7, 8]])"
      ]
     },
     "execution_count": 209,
     "metadata": {},
     "output_type": "execute_result"
    }
   ],
   "source": [
    "arr_2d[1:3,2:4]"
   ]
  },
  {
   "cell_type": "code",
   "execution_count": 156,
   "id": "21b5f9f0-3c23-4bb6-a362-ebdab3f3d6d6",
   "metadata": {},
   "outputs": [
    {
     "data": {
      "text/plain": [
       "array([[7, 8, 9],\n",
       "       [4, 5, 6],\n",
       "       [1, 2, 3]])"
      ]
     },
     "execution_count": 156,
     "metadata": {},
     "output_type": "execute_result"
    }
   ],
   "source": [
    "arr_2d[::-1] #reverse the arrays"
   ]
  },
  {
   "cell_type": "code",
   "execution_count": 158,
   "id": "9d8a0722-5883-4ff5-ba8c-252e5ec4f333",
   "metadata": {},
   "outputs": [
    {
     "data": {
      "text/plain": [
       "array([[2, 3],\n",
       "       [5, 6],\n",
       "       [8, 9]])"
      ]
     },
     "execution_count": 158,
     "metadata": {},
     "output_type": "execute_result"
    }
   ],
   "source": [
    "arr_2d[0:3,1:3] #This skips every lists 0th index"
   ]
  },
  {
   "cell_type": "code",
   "execution_count": 160,
   "id": "8bbd7b4f-8f7c-45c7-87e7-45b0ab003c9c",
   "metadata": {},
   "outputs": [
    {
     "data": {
      "text/plain": [
       "array([[1]])"
      ]
     },
     "execution_count": 160,
     "metadata": {},
     "output_type": "execute_result"
    }
   ],
   "source": [
    "arr_2d[0:1,0:1] "
   ]
  },
  {
   "cell_type": "code",
   "execution_count": 219,
   "id": "389d579a-426a-4440-aa32-683360a9fd51",
   "metadata": {},
   "outputs": [
    {
     "data": {
      "text/plain": [
       "array([[[4, 3, 2],\n",
       "        [1, 2, 3]],\n",
       "\n",
       "       [[1, 2, 3],\n",
       "        [1, 2, 3]]])"
      ]
     },
     "execution_count": 219,
     "metadata": {},
     "output_type": "execute_result"
    }
   ],
   "source": [
    "arr_3d = np.array([[\n",
    "    [4,3,2],[1,2,3]],\n",
    "    [[1,2,3],[1,2,3],\n",
    "    ]])\n",
    "arr_3d"
   ]
  },
  {
   "cell_type": "code",
   "execution_count": 233,
   "id": "be332679-7cf1-4054-8813-08eb660bee2c",
   "metadata": {},
   "outputs": [
    {
     "data": {
      "text/plain": [
       "array([[4, 3, 2],\n",
       "       [1, 2, 3]])"
      ]
     },
     "execution_count": 233,
     "metadata": {},
     "output_type": "execute_result"
    }
   ],
   "source": [
    "arr_3d[:, 0, :]"
   ]
  },
  {
   "cell_type": "code",
   "execution_count": 161,
   "id": "61b3431d-5c29-43a4-9441-1b7000275578",
   "metadata": {},
   "outputs": [
    {
     "name": "stdout",
     "output_type": "stream",
     "text": [
      "[[12 13  1  5  7]\n",
      " [ 2  0  9  1  9]\n",
      " [ 1 14 12 14  1]]\n"
     ]
    }
   ],
   "source": [
    "from random import randint\n",
    "a = [randint(0, 14) for _ in range(15)]\n",
    "arr4 = np.array(a).reshape(3, 5)\n",
    "print(arr4)\n"
   ]
  },
  {
   "cell_type": "code",
   "execution_count": 162,
   "id": "98634fa2-12e6-44a7-bd79-d3efb47716d1",
   "metadata": {},
   "outputs": [
    {
     "data": {
      "text/plain": [
       "array([[12, 13,  1,  5,  7],\n",
       "       [ 2,  0,  9,  1,  9],\n",
       "       [ 1, 14, 12, 14,  1]])"
      ]
     },
     "execution_count": 162,
     "metadata": {},
     "output_type": "execute_result"
    }
   ],
   "source": [
    "arr4"
   ]
  },
  {
   "cell_type": "code",
   "execution_count": 166,
   "id": "47219e70-2de2-4dd5-8261-9f6766ed959e",
   "metadata": {},
   "outputs": [
    {
     "name": "stdout",
     "output_type": "stream",
     "text": [
      "[[1 1 1 1 1 1 1 1 1 1]\n",
      " [1 1 1 1 1 1 1 1 1 1]\n",
      " [1 1 1 1 1 1 1 1 1 1]\n",
      " [1 1 1 1 1 1 1 1 1 1]\n",
      " [1 1 1 1 1 1 1 1 1 1]\n",
      " [1 1 1 1 1 1 1 1 1 1]\n",
      " [1 1 1 1 1 1 1 1 1 1]\n",
      " [1 1 1 1 1 1 1 1 1 1]\n",
      " [1 1 1 1 1 1 1 1 1 1]\n",
      " [1 1 1 1 1 1 1 1 1 1]]\n"
     ]
    }
   ],
   "source": [
    "xyz= np.ones((10,10), dtype = int)\n",
    "print(xyz)"
   ]
  },
  {
   "cell_type": "code",
   "execution_count": 168,
   "id": "d7299d7b-5282-44b7-aafa-0727e5605ac8",
   "metadata": {},
   "outputs": [
    {
     "name": "stdout",
     "output_type": "stream",
     "text": [
      "[0 0 0 0 0 0 0 0 0 0]\n",
      "[1 1 1 1 1 1 1 1 1 1]\n",
      "[2 2 2 2 2 2 2 2 2 2]\n",
      "[3 3 3 3 3 3 3 3 3 3]\n",
      "[4 4 4 4 4 4 4 4 4 4]\n",
      "[5 5 5 5 5 5 5 5 5 5]\n",
      "[6 6 6 6 6 6 6 6 6 6]\n",
      "[7 7 7 7 7 7 7 7 7 7]\n",
      "[8 8 8 8 8 8 8 8 8 8]\n",
      "[9 9 9 9 9 9 9 9 9 9]\n"
     ]
    }
   ],
   "source": [
    "for i in range(len(xyz)):\n",
    "    xyz[i] = i\n",
    "    print(xyz[i])"
   ]
  },
  {
   "cell_type": "code",
   "execution_count": 170,
   "id": "f985fd61-2dac-45c8-928a-72f9a74ec041",
   "metadata": {},
   "outputs": [],
   "source": [
    "matrix = np.zeros(xyz.shape, dtype=int) #taking the shape from xyz array which we created above (Shape is nothing but same as dimension)"
   ]
  },
  {
   "cell_type": "code",
   "execution_count": 172,
   "id": "caaa0e60-b49a-4fd4-8412-536438f3b538",
   "metadata": {},
   "outputs": [
    {
     "data": {
      "text/plain": [
       "array([[0, 0, 0, 0, 0, 0, 0, 0, 0, 0],\n",
       "       [0, 0, 0, 0, 0, 0, 0, 0, 0, 0],\n",
       "       [0, 0, 0, 0, 0, 0, 0, 0, 0, 0],\n",
       "       [0, 0, 0, 0, 0, 0, 0, 0, 0, 0],\n",
       "       [0, 0, 0, 0, 0, 0, 0, 0, 0, 0],\n",
       "       [0, 0, 0, 0, 0, 0, 0, 0, 0, 0],\n",
       "       [0, 0, 0, 0, 0, 0, 0, 0, 0, 0],\n",
       "       [0, 0, 0, 0, 0, 0, 0, 0, 0, 0],\n",
       "       [0, 0, 0, 0, 0, 0, 0, 0, 0, 0],\n",
       "       [0, 0, 0, 0, 0, 0, 0, 0, 0, 0]])"
      ]
     },
     "execution_count": 172,
     "metadata": {},
     "output_type": "execute_result"
    }
   ],
   "source": [
    "matrix"
   ]
  },
  {
   "cell_type": "code",
   "execution_count": 174,
   "id": "1f445396-77e7-4926-92d0-75db7fe967df",
   "metadata": {},
   "outputs": [
    {
     "data": {
      "text/plain": [
       "(10, 10)"
      ]
     },
     "execution_count": 174,
     "metadata": {},
     "output_type": "execute_result"
    }
   ],
   "source": [
    "matrix.shape"
   ]
  },
  {
   "cell_type": "code",
   "execution_count": 176,
   "id": "3ba02000-b81b-44d7-bbba-d24894be6675",
   "metadata": {},
   "outputs": [],
   "source": [
    "no_of_rows = matrix.shape[0]"
   ]
  },
  {
   "cell_type": "code",
   "execution_count": 177,
   "id": "ef7b8cca-892e-4bdc-adb8-56538e03dec0",
   "metadata": {},
   "outputs": [
    {
     "data": {
      "text/plain": [
       "10"
      ]
     },
     "execution_count": 177,
     "metadata": {},
     "output_type": "execute_result"
    }
   ],
   "source": [
    "no_of_rows"
   ]
  },
  {
   "cell_type": "code",
   "execution_count": 178,
   "id": "63303806-f503-4503-9284-da327b451514",
   "metadata": {},
   "outputs": [
    {
     "data": {
      "text/plain": [
       "array([[2, 2, 2, 2, 2, 2, 2, 2, 2, 2],\n",
       "       [3, 3, 3, 3, 3, 3, 3, 3, 3, 3],\n",
       "       [1, 1, 1, 1, 1, 1, 1, 1, 1, 1],\n",
       "       [4, 4, 4, 4, 4, 4, 4, 4, 4, 4]])"
      ]
     },
     "execution_count": 178,
     "metadata": {},
     "output_type": "execute_result"
    }
   ],
   "source": [
    "xyz[[2,3,1,4]] #accessing rows by fancy indexing"
   ]
  },
  {
   "cell_type": "code",
   "execution_count": 182,
   "id": "1289c688-90ea-41fe-b3af-2e6c8f3cc06e",
   "metadata": {},
   "outputs": [
    {
     "data": {
      "text/plain": [
       "array([[0, 0, 0, 0],\n",
       "       [1, 1, 1, 1],\n",
       "       [2, 2, 2, 2],\n",
       "       [3, 3, 3, 3],\n",
       "       [4, 4, 4, 4],\n",
       "       [5, 5, 5, 5],\n",
       "       [6, 6, 6, 6],\n",
       "       [7, 7, 7, 7],\n",
       "       [8, 8, 8, 8],\n",
       "       [9, 9, 9, 9]])"
      ]
     },
     "execution_count": 182,
     "metadata": {},
     "output_type": "execute_result"
    }
   ],
   "source": [
    "xyz[:,[2,3,4,1]] #accessing columns by fancy indexing"
   ]
  },
  {
   "cell_type": "markdown",
   "id": "2a5c2c4e-4238-4e87-b916-b95ba44a6fa9",
   "metadata": {},
   "source": [
    "# Exercise for Practice"
   ]
  },
  {
   "cell_type": "code",
   "execution_count": 184,
   "id": "c2724948-952f-412f-993a-5d9f8b8a538c",
   "metadata": {},
   "outputs": [
    {
     "name": "stdout",
     "output_type": "stream",
     "text": [
      "[[1 2 3]\n",
      " [4 5 6]\n",
      " [7 8 9]]\n"
     ]
    },
    {
     "data": {
      "text/plain": [
       "(3, 3)"
      ]
     },
     "execution_count": 184,
     "metadata": {},
     "output_type": "execute_result"
    }
   ],
   "source": [
    "# Q1 create 3x3 array and print its shape\n",
    "import numpy as np\n",
    "twoDarr = np.array([[1,2,3], [4,5,6],[7,8,9]])\n",
    "print(twoDarr)\n",
    "twoDarr.shape"
   ]
  },
  {
   "cell_type": "code",
   "execution_count": 185,
   "id": "b93cd544-7feb-48c8-b711-37a77a16a9c0",
   "metadata": {},
   "outputs": [
    {
     "name": "stdout",
     "output_type": "stream",
     "text": [
      "[1.1 2.2 3.3]\n",
      "[1 2 3]\n"
     ]
    }
   ],
   "source": [
    "# Q2 convert array of floats into integer\n",
    "arr = np.array([1.1, 2.2, 3.3])\n",
    "print(arr)\n",
    "int_arr = arr.astype('int')\n",
    "print(int_arr)"
   ]
  },
  {
   "cell_type": "code",
   "execution_count": null,
   "id": "da756f7e-bb2c-4b53-9ac5-1b828c559447",
   "metadata": {},
   "outputs": [],
   "source": [
    "# Q3 Use fancy indexing and extract even numbers from [1,2,3,4,5,6]\n",
    "\n",
    "arr = np.array([1,2,3,4,5,6])\n",
    "even_index = np.where(arr % 2 == 0)\n",
    "even_num = arr[even_index]\n",
    "even_num"
   ]
  },
  {
   "cell_type": "code",
   "execution_count": null,
   "id": "a9740b82-159d-4b2a-8a6d-c09a8aaad74b",
   "metadata": {},
   "outputs": [],
   "source": [
    "# Q4 Reshape 1D array of size 9 into 3x3 matrix\n",
    "\n",
    "arr = np.array([3,2,4,5,4,6,8,2,1])\n",
    "arr.reshape(3,3)"
   ]
  },
  {
   "cell_type": "code",
   "execution_count": null,
   "id": "ff4f9a4c-8642-4cac-90fc-509f0a784e1c",
   "metadata": {},
   "outputs": [],
   "source": [
    "# Q5 Use boolean masking to filter numbers greater than 50 in an array\n",
    "\n",
    "arr = np.array([54,76,87,23,54,65,87,98,67,45,23,14,54,76])\n",
    "mask = arr > 50\n",
    "new_arr = arr[mask]\n",
    "for i in new_arr:\n",
    "    print(i, end =' ')"
   ]
  },
  {
   "cell_type": "code",
   "execution_count": null,
   "id": "3ae5b4d3-508c-49f0-a984-619447460001",
   "metadata": {},
   "outputs": [],
   "source": []
  }
 ],
 "metadata": {
  "kernelspec": {
   "display_name": "Python 3 (ipykernel)",
   "language": "python",
   "name": "python3"
  },
  "language_info": {
   "codemirror_mode": {
    "name": "ipython",
    "version": 3
   },
   "file_extension": ".py",
   "mimetype": "text/x-python",
   "name": "python",
   "nbconvert_exporter": "python",
   "pygments_lexer": "ipython3",
   "version": "3.12.4"
  }
 },
 "nbformat": 4,
 "nbformat_minor": 5
}
