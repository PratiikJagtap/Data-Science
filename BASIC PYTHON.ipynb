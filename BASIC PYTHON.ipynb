{
 "cells": [
  {
   "cell_type": "markdown",
   "id": "cf446232-df52-44aa-84bf-6fdc410bc976",
   "metadata": {
    "editable": true,
    "jp-MarkdownHeadingCollapsed": true,
    "slideshow": {
     "slide_type": ""
    },
    "tags": []
   },
   "source": [
    "# BASIC"
   ]
  },
  {
   "cell_type": "code",
   "execution_count": 151,
   "id": "c8031a50-ba92-4a54-8fed-6568c990001d",
   "metadata": {},
   "outputs": [
    {
     "name": "stdout",
     "output_type": "stream",
     "text": [
      "species :elephant\n",
      "file span in years :50\n",
      "average blood pressure :125.6\n"
     ]
    }
   ],
   "source": [
    "# Multiple assignment\n",
    "species, age, bp = \"elephant\", 50, 125.6\n",
    "print(f\"species :{species}\")\n",
    "print(f\"file span in years :{age}\")\n",
    "print(f\"average blood pressure :{bp}\")"
   ]
  },
  {
   "cell_type": "code",
   "execution_count": 3,
   "id": "baad4431-0e16-4062-990b-d3633cda02af",
   "metadata": {},
   "outputs": [
    {
     "name": "stdout",
     "output_type": "stream",
     "text": [
      "176\n"
     ]
    }
   ],
   "source": [
    "p1 = p2 = p3 = p4 = 44\n",
    "print(p1 + p2 + p3 + p4)"
   ]
  },
  {
   "cell_type": "code",
   "execution_count": 5,
   "id": "35215acb-a50b-452b-9201-fa1855db8d12",
   "metadata": {},
   "outputs": [
    {
     "name": "stdout",
     "output_type": "stream",
     "text": [
      "<class 'float'>\n",
      "24\n",
      "92.78 is float?  ans: True\n"
     ]
    }
   ],
   "source": [
    "import sys\n",
    "val = 92.78\n",
    "print(type(val))\n",
    "print(sys.getsizeof(val))\n",
    "print(val, \"is float?  ans:\", isinstance(val, float))"
   ]
  },
  {
   "cell_type": "code",
   "execution_count": 7,
   "id": "3673307e-29f2-4c22-9506-35d1c6c1508c",
   "metadata": {},
   "outputs": [
    {
     "data": {
      "text/plain": [
       "58"
      ]
     },
     "execution_count": 7,
     "metadata": {},
     "output_type": "execute_result"
    }
   ],
   "source": [
    "A = \"welcome to python\" # here 'A' is the variable and \"welcome to python\" is a value\n",
    "sys.getsizeof(A)"
   ]
  },
  {
   "cell_type": "code",
   "execution_count": 9,
   "id": "b3e0c90c-518a-4471-9d7c-6b6b700fb952",
   "metadata": {},
   "outputs": [
    {
     "name": "stdout",
     "output_type": "stream",
     "text": [
      "(5+2j) is complex?  ans:  True\n"
     ]
    }
   ],
   "source": [
    "val3 = 5 + 2j \n",
    "print(val3, \"is complex?  ans: \", isinstance(val3, complex))"
   ]
  },
  {
   "cell_type": "code",
   "execution_count": 11,
   "id": "6201390f-cd47-41ed-9b4e-f05e4bc958a3",
   "metadata": {},
   "outputs": [
    {
     "data": {
      "text/plain": [
       "False"
      ]
     },
     "execution_count": 11,
     "metadata": {},
     "output_type": "execute_result"
    }
   ],
   "source": [
    "bool(0)"
   ]
  },
  {
   "cell_type": "code",
   "execution_count": 13,
   "id": "af48bb1a-1181-47e1-8e62-393f2d77704b",
   "metadata": {},
   "outputs": [
    {
     "data": {
      "text/plain": [
       "True"
      ]
     },
     "execution_count": 13,
     "metadata": {},
     "output_type": "execute_result"
    }
   ],
   "source": [
    "bool(1)"
   ]
  },
  {
   "cell_type": "markdown",
   "id": "a143e3ef-3e2c-4ff0-9a9f-20cc3322d8e8",
   "metadata": {},
   "source": [
    "### Operators"
   ]
  },
  {
   "cell_type": "code",
   "execution_count": 65,
   "id": "fe9227e5-9cd0-4b49-adb3-891c3e021ade",
   "metadata": {},
   "outputs": [
    {
     "name": "stdout",
     "output_type": "stream",
     "text": [
      "2.5\n",
      "2\n",
      "10\n",
      "3\n",
      "625\n"
     ]
    }
   ],
   "source": [
    "# Arithmetic \n",
    "a = 5 % 2 # it prints reminder\n",
    "b = 5 / 2 # it prints division\n",
    "c = 5 // 2 # if output is 2.5 then it only prints 2\n",
    "d = 5 * 2 \n",
    "e = 5 - 2 \n",
    "f = 5 ** 4 # it prints power like ** - square\n",
    "print(b)\n",
    "print(c)\n",
    "print(d)\n",
    "print(e)\n",
    "print(f)"
   ]
  },
  {
   "cell_type": "code",
   "execution_count": 63,
   "id": "ce48a9a6-76ca-4b1b-a752-cf4dc80fb143",
   "metadata": {},
   "outputs": [
    {
     "name": "stdout",
     "output_type": "stream",
     "text": [
      "True\n",
      "True\n",
      "True\n",
      "True\n",
      "True\n",
      "True\n"
     ]
    }
   ],
   "source": [
    "#Comparision operator\n",
    "print(3 > 2)\n",
    "print(2 < 3)\n",
    "print(3 == 3)\n",
    "print(3 != 4)\n",
    "print(3 >= 3)\n",
    "print(3 <= 7)"
   ]
  },
  {
   "cell_type": "code",
   "execution_count": 69,
   "id": "ef43fab7-08c2-4e54-b640-dad73b2e210b",
   "metadata": {},
   "outputs": [
    {
     "name": "stdout",
     "output_type": "stream",
     "text": [
      "False\n",
      "True\n",
      "False\n",
      "False\n",
      "\n",
      "\n",
      "True\n",
      "True\n",
      "True\n",
      "False\n"
     ]
    }
   ],
   "source": [
    "#Logical Operator\n",
    "print(True and False)\n",
    "print(True and True)\n",
    "print(False and True)\n",
    "print(False and False)\n",
    "print(\"\\n\")\n",
    "print(True or False)\n",
    "print(True or True)\n",
    "print(False or True)\n",
    "print(False or False)"
   ]
  },
  {
   "cell_type": "markdown",
   "id": "c2f28d0a-0e29-47db-96ed-d01ea2196342",
   "metadata": {},
   "source": [
    "## Arethemetic Operators Precedence"
   ]
  },
  {
   "cell_type": "code",
   "execution_count": 13,
   "id": "a731c81b-d91e-426d-a1bc-b9383aad0f69",
   "metadata": {},
   "outputs": [
    {
     "data": {
      "text/plain": [
       "512"
      ]
     },
     "execution_count": 13,
     "metadata": {},
     "output_type": "execute_result"
    }
   ],
   "source": [
    "2 ** 3 ** 2 # Output of this eg is 512 because exponentiation is evaluated right to left.\n",
    "#first it evaluate (3 ** 2) ans is 9 then (2 ** 9) ans of this is 512.\n",
    "# 2 ** (3 ** 2) = 512"
   ]
  },
  {
   "cell_type": "code",
   "execution_count": 11,
   "id": "3b5942f8-35fb-46aa-8107-bf54e43ca1b9",
   "metadata": {},
   "outputs": [
    {
     "data": {
      "text/plain": [
       "-20.956521739130434"
      ]
     },
     "execution_count": 11,
     "metadata": {},
     "output_type": "execute_result"
    }
   ],
   "source": [
    "# It means which operator excute their operation according to operator.\n",
    "result = 54*3/23+4-2**5\n",
    "result"
   ]
  },
  {
   "cell_type": "markdown",
   "id": "e55f3059-a02f-47d2-9b06-be756de0b7c7",
   "metadata": {
    "jp-MarkdownHeadingCollapsed": true
   },
   "source": [
    "# DATA TYPES IN PYTHON* "
   ]
  },
  {
   "cell_type": "code",
   "execution_count": 15,
   "id": "c8993a25-a70d-4a49-ae0a-0cbdede4a78f",
   "metadata": {},
   "outputs": [],
   "source": [
    "string = \"pratik\"\n",
    "integer = 12\n",
    "float = 1.2\n",
    "complex = 25 + 5j\n",
    "list = [1,2,3,4]\n",
    "tuple = (1,2,3,4)\n",
    "dictionary = { 'name' : 'pratik', 'age' : 22}   \n",
    "set = {1,2,1,2}\n",
    "boolean1 = False\n",
    "boolean2 = True"
   ]
  },
  {
   "cell_type": "markdown",
   "id": "c9401ac9-e5a4-4c51-aed9-f784e6a15a12",
   "metadata": {
    "jp-MarkdownHeadingCollapsed": true
   },
   "source": [
    "# LIST, TUPLE, DICTIONARY & SET METHODS"
   ]
  },
  {
   "cell_type": "markdown",
   "id": "4b1dafa5-e35b-4f08-97df-73029d6d3b14",
   "metadata": {},
   "source": [
    "**list Operations**"
   ]
  },
  {
   "cell_type": "code",
   "execution_count": 85,
   "id": "b01ca3b8-1df4-4b1c-9ffe-002e3bf67372",
   "metadata": {
    "scrolled": true
   },
   "outputs": [
    {
     "name": "stdin",
     "output_type": "stream",
     "text": [
      "How many elements you want to enter: 5\n",
      "enter item 1 3\n",
      "enter item 2 4\n",
      "enter item 3 5\n",
      "enter item 4 5\n",
      "enter item 5 6\n"
     ]
    },
    {
     "name": "stdout",
     "output_type": "stream",
     "text": [
      "['3', '4', '5', '5', '6']\n"
     ]
    }
   ],
   "source": [
    "# add elements in given range\n",
    "l = []\n",
    "lst = int(input(\"How many elements you want to enter:\"))\n",
    "\n",
    "for i in range(lst):\n",
    "    item = input(f\"enter item {i + 1}\")\n",
    "    l.append(item)\n",
    "print(l)"
   ]
  },
  {
   "cell_type": "code",
   "execution_count": 91,
   "id": "1d3c8265-0067-44e2-bc11-e311adbf6c07",
   "metadata": {},
   "outputs": [
    {
     "name": "stdin",
     "output_type": "stream",
     "text": [
      "Enter item (type 'stop'): 3\n",
      "Enter item (type 'stop'): 4\n",
      "Enter item (type 'stop'): 3\n",
      "Enter item (type 'stop'): 2\n",
      "Enter item (type 'stop'): 3\n",
      "Enter item (type 'stop'): 4\n",
      "Enter item (type 'stop'): 5\n",
      "Enter item (type 'stop'): 6\n",
      "Enter item (type 'stop'): 6\n",
      "Enter item (type 'stop'): 7\n",
      "Enter item (type 'stop'): 8\n",
      "Enter item (type 'stop'): 8\n",
      "Enter item (type 'stop'): stop\n"
     ]
    },
    {
     "name": "stdout",
     "output_type": "stream",
     "text": [
      "['3', '4', '3', '2', '3', '4', '5', '6', '6', '7', '8', '8']\n"
     ]
    }
   ],
   "source": [
    "# add whatever you want to insert\n",
    "l = []\n",
    "while True:\n",
    "    item = input(\"Enter item (type 's'):\")\n",
    "    if item.lower() == 's':\n",
    "        break   \n",
    "    l.append(item)\n",
    "print(l)"
   ]
  },
  {
   "cell_type": "code",
   "execution_count": 95,
   "id": "7dec16f0-1c17-48b7-9d81-a89305dfd267",
   "metadata": {},
   "outputs": [
    {
     "name": "stdin",
     "output_type": "stream",
     "text": [
      "Enter elements by space: 1 2 3 4 5 6 7 8 9 \n"
     ]
    },
    {
     "name": "stdout",
     "output_type": "stream",
     "text": [
      "['1', '2', '3', '4', '5', '6', '7', '8', '9']\n"
     ]
    }
   ],
   "source": [
    "# adding elements in list by space \n",
    "lists = input(\"Enter elements by space:\").split()\n",
    "print(lists)"
   ]
  },
  {
   "cell_type": "code",
   "execution_count": 109,
   "id": "afa012c9-2c67-49d5-981e-1dbaf94bebf0",
   "metadata": {},
   "outputs": [
    {
     "name": "stdout",
     "output_type": "stream",
     "text": [
      "['banana', 'cherry', 'mango']\n",
      "['apple', 'banana', 'cherry']\n",
      "['cherry', 'mango', 'orange']\n",
      "['cherry', 'mango', 'orange']\n",
      "['orange', 'mango', 'cherry', 'banana', 'apple']\n",
      "['apple', 'cherry', 'orange']\n",
      "[1, 3, 5, 6, 6, 2, 2, 3, 5, 6]\n"
     ]
    }
   ],
   "source": [
    "# indexing & sclicing in list\n",
    "\n",
    "fruits = [\"apple\", \"banana\", \"cherry\", \"mango\", \"orange\"]\n",
    "\n",
    "print(fruits[1:4]) \n",
    "print(fruits[:3])\n",
    "print(fruits[2:])\n",
    "print(fruits[-3:])\n",
    "print(fruits[::-1])  # reverse\n",
    "print(fruits[::2]) # step of 2 it prints every 2nd element\n",
    "\n",
    "del fruits[4] # delete by given element\n",
    "del fruits # delete all the list\n",
    "# print(fruits)\n",
    "\n",
    "#Adding two lists\n",
    "m = [ 1, 3, 5, 6, 6]\n",
    "n = [2, 2, 3, 5, 6]\n",
    "o = m + n\n",
    "print(o)"
   ]
  },
  {
   "cell_type": "code",
   "execution_count": 18,
   "id": "702db89a-d87e-4654-b2ab-b229afd84e7b",
   "metadata": {},
   "outputs": [
    {
     "name": "stdout",
     "output_type": "stream",
     "text": [
      "Feature 0: age\n",
      "Feature 1: salary\n",
      "Feature 2: experience\n"
     ]
    }
   ],
   "source": [
    "numbers = [5,10,15,20,25,25,30]\n",
    "\n",
    "#Modify\n",
    "numbers[1] = 12 \n",
    "# print(\"after modification:\",numbers[1])\n",
    "\n",
    "#Adding\n",
    "numbers.append(35) #add one emelment\n",
    "numbers.extend([40,45,50]) #add multiple element\n",
    "numbers.insert(2, 17) #insert element at given index here 2 is a index\n",
    "\n",
    "#Removing\n",
    "numbers.remove(45) #remove one element\n",
    "numbers.pop() #remove last element\n",
    "\n",
    "#Searching\n",
    "# print(\"index of 15 is:\",numbers.index(25))\n",
    "# print(\"how many times 25 occured in list:\",numbers.count(25))\n",
    "\n",
    "#Sorting & Reversing\n",
    "numbers.sort() #Asending order\n",
    "numbers.sort(reverse=True) #Desending order\n",
    "numbers.reverse() #here output is sorted because list is in desending order so revese method reverse the list\n",
    "# print(numbers[::-1]) #Reverse list through slicing \n",
    "\n",
    "#Copy list\n",
    "copy_numbers = numbers.copy()\n",
    "\n",
    "#Clering list\n",
    "copy_numbers.clear()\n",
    "\n",
    "########################## Following is important in AI/ML #######################################\n",
    "\n",
    "#Filtering Data.\n",
    "even_numbers = [x for x in numbers if x % 2 ==0]\n",
    "\n",
    "#Converting data types\n",
    "str_list = ['1', '2', '3', '4']\n",
    "int_list = list(map(int, str_list))\n",
    "\n",
    "#Multiple lists\n",
    "matrix = [[1,2,3], [4,5,6], [7,8,9]]\n",
    "# print(\"matrix element:\", matrix[1][2])\n",
    "\n",
    "#ZIP() method which combines data\n",
    "names = [\"pratik\", \"pratiksha\", \"raju\"]\n",
    "age = [22, 20, 25]\n",
    "combined = list(zip(names, age))\n",
    "# print(combined)\n",
    "\n",
    "#Enumerate funtion\n",
    "features = [\"age\", \"salary\", \"experience\"]\n",
    "for i, f in enumerate(features):\n",
    "    print(f\"Feature {i}: {f}\")"
   ]
  },
  {
   "cell_type": "markdown",
   "id": "a354de4a-ce0e-4df1-bda6-943dc09241de",
   "metadata": {},
   "source": [
    "**Tuple Operations**"
   ]
  },
  {
   "cell_type": "code",
   "execution_count": 68,
   "id": "b4ca0906-2a17-4342-8eb5-35043470c1c8",
   "metadata": {},
   "outputs": [
    {
     "name": "stdout",
     "output_type": "stream",
     "text": [
      "60\n",
      "[2, 3, 4, 4, 5, 5, 5, 6, 6, 6, 7, 7]\n",
      "[7, 7, 6, 6, 6, 5, 5, 5, 4, 4, 3, 2]\n",
      "12\n",
      "7\n",
      "2\n"
     ]
    }
   ],
   "source": [
    "# Tuples are immutable means it does not change after creation\n",
    "# If we have to store data that we dont want to change then we use tuple\n",
    "# In tuple there there are very few methods compare to list \n",
    "# Tuple has functions like sum, sorted, min, max, len that are useful \n",
    "\n",
    "tup = (2,4,6,5,7,6,4,6,7,5,3,5)\n",
    "# print(tup.count(7)) # It counts how many time element occurs\n",
    "# print(tup.index(2)) # It prints the index of given value\n",
    "\n",
    "print(sum(tup))\n",
    "print(sorted(tup)) #asending\n",
    "print(sorted(tup, reverse=True)) #desending\n",
    "print(len(tup))\n",
    "print(max(tup))\n",
    "print(min(tup))\n",
    "\n",
    "mixed = ('data', 25, (50, [100, 90, (98)]), (150, 90))\n",
    "# print(mixed[2][0]) #Nested tuple\n",
    "# print(mixed[2][1][2]) \n",
    "# print([mixed[2][1:3]])\n",
    "\n",
    "# We can slice tuple using [start : end : step size]\n",
    "# print(tup[1:12:2])"
   ]
  },
  {
   "cell_type": "code",
   "execution_count": 8,
   "id": "b8a3f23a-2fa0-44ce-af29-15a3dcd51925",
   "metadata": {},
   "outputs": [
    {
     "name": "stdout",
     "output_type": "stream",
     "text": [
      "bangalore\n"
     ]
    }
   ],
   "source": [
    "v = [0,1,2,3,[8,{5:[67,89,90,{'area':'southeast', 'city':'bangalore'}]}]]\n",
    "print(v[4][1][5][3]['city'])"
   ]
  },
  {
   "cell_type": "code",
   "execution_count": 92,
   "id": "58a44856-a98b-46c2-89d4-632907c4da88",
   "metadata": {},
   "outputs": [],
   "source": [
    "person = {\n",
    "    \"name\": \"Pratik\",\n",
    "    \"age\": 22,\n",
    "    \"city\": \"Pune\",\n",
    "    \"skills\": [\"Python\", \"Django\"] # We can also create a list of values in dictionary \n",
    "}\n",
    "\n",
    "#Modify\n",
    "person[\"age\"] = 23\n",
    "\n",
    "#Adding\n",
    "person[\"Country\"] = \"India\" # add one element\n",
    "person.update({\"hobby\":\"Coding\", \"State\":\"Maharastra\"}) # Add multiple element\n",
    "\n",
    "#Removing\n",
    "person.pop(\"hobby\") #Remove given element by key for example \"hobby\" is a key\n",
    "last_item = person.popitem() # Remove last element\n",
    "del person['state'] # removing element using del method\n",
    "\n",
    "#Searching\n",
    "person.get(\"city\") # If i dont have city in my dict then also this get method dont throw error\n",
    "\"city\" in person # 'in' returns True or False\n",
    "\n",
    "# Gettiing key, values & items from dict\n",
    "list(person.keys())\n",
    "list(person.values())\n",
    "list(person.items())\n",
    "\n",
    "#Copy\n",
    "p = person.copy()\n",
    "\n",
    "#Clear\n",
    "clr = p.clear()\n",
    "\n",
    "########################## Following is important in AI/ML #######################################\n",
    "\n",
    "# Filtering Data (keys with string values only)\n",
    "str_values = {}\n",
    "for k,v in person.items():\n",
    "    if isinstance(v, str):\n",
    "        str_values[k] = v\n",
    "# print(str_values)\n",
    "\n",
    "# Converting data types\n",
    "dict_to_list_keys = list(person.keys())\n",
    "dict_to_list_val = list(person.values())\n",
    "# print(\"Converted dict data type to list\", dict_to_list_keys)\n",
    "# print(\"Converted dict data type to list\", dict_to_list_val)\n",
    "\n",
    "# Nested dictionary (multiple dicts inside)\n",
    "students = {\n",
    "    \"student1\": {\"name\": \"Amit\", \"marks\": {\"english\":67, \"Math\":83}},\n",
    "    \"student2\": {\"name\": \"Neha\", \"marks\": {\"english\":89, \"Math\":95}}\n",
    "}\n",
    "# print(\"Neha's marks:\", students[\"student2\"][\"marks\"][\"english\"])"
   ]
  },
  {
   "cell_type": "code",
   "execution_count": null,
   "id": "5712ecf2-5cb7-4bc4-b582-9ba983a49f17",
   "metadata": {},
   "outputs": [],
   "source": [
    "person = {\n",
    "    \"name\": \"Pratik\",\n",
    "    \"age\": 22,\n",
    "    \"city\": \"Pune\",\n",
    "}\n",
    "person"
   ]
  },
  {
   "cell_type": "markdown",
   "id": "db343d96-1c77-451d-987f-bd56f8217f71",
   "metadata": {},
   "source": [
    "**Set Operations**"
   ]
  },
  {
   "cell_type": "code",
   "execution_count": 6,
   "id": "1075d1ef-9755-4155-96ec-991dd8e5a086",
   "metadata": {},
   "outputs": [
    {
     "name": "stdout",
     "output_type": "stream",
     "text": [
      "Is evens are subset of odds: False\n",
      "Is odds are subset of evens: False\n"
     ]
    }
   ],
   "source": [
    "nmbr = {5, 10, 15, 20, 25, 25, 30}\n",
    "\n",
    "# Adding \n",
    "nmbr.add(30) #add one element\n",
    "\n",
    "#First approach \n",
    "nmbr.update([35, 50, 65, 70]) # add multiple element by using list\n",
    "#Second approach\n",
    "n = [35, 50, 65, 70]\n",
    "nmbr.update(n)\n",
    "\n",
    "#remove\n",
    "nmbr.remove(35) # remove given element\n",
    "nmbr.discard(100) #remove element if present , else no error throws\n",
    "nmbr.pop() # remove random element because sets are unordered\n",
    "\n",
    "#Searching\n",
    "# print(\"Is 25 in set?:\", 25 in numbers)  # 'in' returns True or False\n",
    "# print(\"Is 100 in set?:\", 100 in numbers) \n",
    "\n",
    "#SET Operations\n",
    "evens = {10, 20, 30, 40, 50, 60}\n",
    "odds = {1, 2, 3, 4}\n",
    "\n",
    "print(\"Union:\", nmbr.union(evens, odds))        # combines both sets\n",
    "print(\"Intersection:\", nmbr.intersection(evens))  # common elements\n",
    "print(\"Difference:\", nmbr.difference(evens))  # elements in numbers but not in evens\n",
    "print(\"Symmetric Difference:\", nmbr.symmetric_difference(evens))  # elements in either but not both\n",
    "\n",
    "print(\"Are odds a subset of evens:\", odds.issubset(evens))\n",
    "print(\"Are evens a superset of odds:\", evens.issuperset(odds))\n",
    "\n",
    "#Copy\n",
    "c = nmbr.copy()\n",
    "\n",
    "#Clear\n",
    "clr = c.clear()\n",
    "\n",
    "########################## Following is important in AI/ML #######################################\n",
    "\n",
    "#Filtering Data\n",
    "even_numbers = [x for x in nmbr if x % 2 ==0]\n",
    "\n",
    "#Converting data types\n",
    "str_list = ['1', '2', '3', '4']\n",
    "int_list = set(map(int, str_list))\n",
    "\n",
    "#Multiple lists\n",
    "matrix = [[1,2,3], [4,5,6], [7,8,9]]\n",
    "# print(\"matrix element:\", matrix[1][2])"
   ]
  },
  {
   "cell_type": "code",
   "execution_count": 109,
   "id": "384e6766-24b3-4516-8d3f-784eb5ad2e8f",
   "metadata": {},
   "outputs": [
    {
     "name": "stdout",
     "output_type": "stream",
     "text": [
      "{'business', 'sports', 'Advertising', 'entertainment', 'politics'}\n"
     ]
    }
   ],
   "source": [
    "news = {'politics', 'business'}\n",
    "\n",
    "news.add('sports')\n",
    "\n",
    "sections = [\"entertainment\", \"Lifestyle\", \"Advertising\"]\n",
    "news.update(sections)\n",
    "\n",
    "news.remove(\"Lifestyle\")\n",
    "news.discard(200)\n",
    "\n",
    "\n",
    "print(news)"
   ]
  },
  {
   "cell_type": "markdown",
   "id": "26e5ad62-813d-41c6-ac0c-d0a44b4babe6",
   "metadata": {
    "jp-MarkdownHeadingCollapsed": true
   },
   "source": [
    "# STRING OPERATIONS"
   ]
  },
  {
   "cell_type": "code",
   "execution_count": 83,
   "id": "d79cc4fc-1716-4f0a-bafe-077ea1a1dfec",
   "metadata": {},
   "outputs": [
    {
     "name": "stdout",
     "output_type": "stream",
     "text": [
      "P\n",
      "a\n"
     ]
    }
   ],
   "source": [
    "namee = \"Pratik Dada\"\n",
    "\n",
    "#indexing\n",
    "print(namee[0]) # positive indexing\n",
    "print(namee[-1]) # negative indexing"
   ]
  },
  {
   "cell_type": "code",
   "execution_count": 19,
   "id": "d257aa6d-e669-407d-b2f3-24e4429e20a3",
   "metadata": {},
   "outputs": [
    {
     "name": "stdout",
     "output_type": "stream",
     "text": [
      "well Being\n"
     ]
    }
   ],
   "source": [
    "#String Concatination\n",
    "S1 = \"well\"\n",
    "S2 = \" \"\n",
    "S3 = \"Being\"\n",
    "print(S1+S2+S3)"
   ]
  },
  {
   "cell_type": "code",
   "execution_count": 21,
   "id": "a0e05b08-7f33-47a3-b135-3e3a58718d6a",
   "metadata": {},
   "outputs": [
    {
     "name": "stdout",
     "output_type": "stream",
     "text": [
      "Hello, this is a python class.\n",
      "this is a python class.\n",
      "Hello,\n",
      "Hlo hsi  yhncas\n",
      ".ssalc nohtyp a si siht ,olleH\n"
     ]
    }
   ],
   "source": [
    "# String sclicing #[start:end:step]\n",
    "nme = \"Hello, this is a python class.\"\n",
    "print(nme[0:30])\n",
    "print(nme[7:])\n",
    "print(nme[:6])\n",
    "print(nme[0:30:2])\n",
    "print(nme[::-1]) #used to reverce string"
   ]
  },
  {
   "cell_type": "code",
   "execution_count": 9,
   "id": "0e349b5c-cb4a-4e1e-a004-fade6bdc95a1",
   "metadata": {},
   "outputs": [
    {
     "name": "stdout",
     "output_type": "stream",
     "text": [
      "cost of three items are 40, 50 and 77 respectively.\n",
      "cost of three items are 40, 50 and 77 respectively.\n",
      "cost of three items are 40, 50 and 77 respectively.\n"
     ]
    }
   ],
   "source": [
    "#String formating\n",
    "item = 40\n",
    "item1 = 50\n",
    "item3 = 77\n",
    "print(\"cost of three items are {}, {} and {} respectively.\".format(item, item1, item3))\n",
    "print(f\"cost of three items are {item}, {item1} and {item3} respectively.\")\n",
    "print(\"cost of three items are %d, %d and %d respectively.\"%(item, item1, item3))"
   ]
  },
  {
   "cell_type": "code",
   "execution_count": 27,
   "id": "bc394170-b841-4c5c-ad28-cea71d7f08f7",
   "metadata": {},
   "outputs": [
    {
     "name": "stdout",
     "output_type": "stream",
     "text": [
      "<class 'float'>\n",
      "9\n",
      "<class 'int'>\n",
      "5.0\n",
      "True\n",
      "<class 'str'>\n"
     ]
    }
   ],
   "source": [
    "#Type Casting\n",
    "\n",
    "a = 9.7\n",
    "print(type(a))\n",
    "print(int(a))\n",
    "\n",
    "num = 5 \n",
    "print(type(num))\n",
    "print(float(num))\n",
    "print(bool(num))\n",
    "s = str(num)\n",
    "print(type(s))"
   ]
  },
  {
   "cell_type": "code",
   "execution_count": 99,
   "id": "2d1dbb56-d266-4796-ba56-fac5994aed5a",
   "metadata": {},
   "outputs": [
    {
     "name": "stdout",
     "output_type": "stream",
     "text": [
      "pratik jagtap\n",
      "PRATIK JAGTAP\n",
      "pRATIK jAGTAP\n",
      "Pratik Jagtap\n",
      "Pratik jagtap\n",
      "['pratik', 'rahul', 'naman', 'rakesh']\n",
      "('Hello My name is Pratik Jagtap and ', 'I', ' am Currently living in Kharadi')\n"
     ]
    }
   ],
   "source": [
    "# String Methods\n",
    "name = \"Pratik Jagtap\"\n",
    "print(name.lower())\n",
    "print(name.upper())\n",
    "print(name.swapcase())\n",
    "print(name.title())\n",
    "print(name.capitalize())\n",
    "\n",
    "str = \"pratik.rahul.naman.rakesh\"\n",
    "# print(str.split())\n",
    "print(str.split('.')) # it print many parts\n",
    "\n",
    "str1 = \"Hello My name is Pratik Jagtap and I am Currently living in Kharadi\"\n",
    "print(str1.partition('I')) # it print always 3 parts"
   ]
  },
  {
   "cell_type": "code",
   "execution_count": 103,
   "id": "8a4a6be6-9662-47c1-bf09-449c23b0a5fa",
   "metadata": {},
   "outputs": [
    {
     "name": "stdout",
     "output_type": "stream",
     "text": [
      "pratik dada jagtap live In Kharadi\n",
      "pratik-dada-jagtap-live-In-Kharadi\n",
      "pratik.dada.jagtap.live.In.Kharadi\n"
     ]
    }
   ],
   "source": [
    "#Join method\n",
    "text = ['pratik', 'dada', 'jagtap', \"live\", \"In\", \"Kharadi\"]\n",
    "print(\" \".join(text))\n",
    "print(\"-\".join(text))\n",
    "print(\".\".join(text))"
   ]
  },
  {
   "cell_type": "code",
   "execution_count": 27,
   "id": "038794bd-e265-4135-9e47-9e14c4f849e3",
   "metadata": {},
   "outputs": [
    {
     "name": "stdout",
     "output_type": "stream",
     "text": [
      "AI Engineer\n",
      "AI Engineer\n",
      "AI Engineer\n"
     ]
    }
   ],
   "source": [
    "#Strip method - it is used to remove unwanted things from first and last only\n",
    "a = \"@@@@@@@@@@AI Engineer@@@@@\"\n",
    "print(a.strip('@')) \n",
    "\n",
    "b = \"ssssssssssssAI Engineerssssssss\"\n",
    "print(b.strip('s'))\n",
    "\n",
    "c = \"     AI Engineer     \"\n",
    "print(c.strip())"
   ]
  },
  {
   "cell_type": "code",
   "execution_count": 29,
   "id": "3f28d155-8566-45fd-9642-e95f43142294",
   "metadata": {},
   "outputs": [
    {
     "name": "stdout",
     "output_type": "stream",
     "text": [
      "Hello, Python\n"
     ]
    }
   ],
   "source": [
    "#replace method\n",
    "string = \"Hello, World\"\n",
    "print(string.replace(\"World\", \"Python\"))"
   ]
  },
  {
   "cell_type": "markdown",
   "id": "537a46ab-bdb0-48b0-a8c2-3cc5d6771879",
   "metadata": {
    "jp-MarkdownHeadingCollapsed": true
   },
   "source": [
    "# CONTROL FLOW"
   ]
  },
  {
   "cell_type": "markdown",
   "id": "9d09786e-aa98-410e-ba30-d186692661c8",
   "metadata": {},
   "source": [
    "- If-Elif-Else :"
   ]
  },
  {
   "cell_type": "code",
   "execution_count": 2,
   "id": "db661071-78f2-4c9a-a382-02ba1fbc366b",
   "metadata": {},
   "outputs": [
    {
     "name": "stdout",
     "output_type": "stream",
     "text": [
      "The given number is negative\n",
      "out of else block\n"
     ]
    }
   ],
   "source": [
    "# if-elif-else\n",
    "x = -23 \n",
    "if x>0:\n",
    "    print(\"The given number is positive\")\n",
    "else:\n",
    "    print(\"The given number is negative\")\n",
    "print(\"out of else block\")"
   ]
  },
  {
   "cell_type": "code",
   "execution_count": 31,
   "id": "87999875-d7d6-4d73-a862-7f991ada39d2",
   "metadata": {
    "editable": true,
    "slideshow": {
     "slide_type": ""
    },
    "tags": []
   },
   "outputs": [
    {
     "name": "stdout",
     "output_type": "stream",
     "text": [
      "There is a missing value in 'age' column.\n"
     ]
    }
   ],
   "source": [
    "import pandas as pd\n",
    "data = {\n",
    "    \"name\" : ['pratik', 'sachin', 'megh', 'vishal'],\n",
    "    \"age\" : [22, 21, None, 20] # here one missing value\n",
    "}\n",
    "DF = pd.DataFrame(data) # converted list into table\n",
    "if DF['age'].isnull().any():\n",
    "    print(f\"There is a missing value in 'age' column.\") # here i used f string which is used for formating\n",
    "else:\n",
    "    print(f\"No missing value in 'age' column.\")"
   ]
  },
  {
   "cell_type": "code",
   "execution_count": 143,
   "id": "d2c65fed-ee25-4074-aa58-98097adfa58e",
   "metadata": {},
   "outputs": [
    {
     "name": "stdin",
     "output_type": "stream",
     "text": [
      "enter number: 50\n"
     ]
    },
    {
     "name": "stdout",
     "output_type": "stream",
     "text": [
      "good to go\n",
      "wow number is even\n"
     ]
    }
   ],
   "source": [
    "num = int(input(\"enter number:\"))\n",
    "\n",
    "if num in range(10,100):\n",
    "    print(\"good to go\")\n",
    "    \n",
    "if num % 2 == 0:\n",
    "    print(\"wow number is even\") \n",
    "elif num % 2 != 0:\n",
    "    print(\"shit number is odd\")\n",
    "else:\n",
    "    print(\"please enter valid number\")"
   ]
  },
  {
   "cell_type": "markdown",
   "id": "2ac2e386-1e05-4c6d-87ac-fc500af248dc",
   "metadata": {},
   "source": [
    "- FOR LOOP :"
   ]
  },
  {
   "cell_type": "code",
   "execution_count": 19,
   "id": "1ed8a3ec-7d62-4d7b-bd55-3cc347ee121d",
   "metadata": {},
   "outputs": [
    {
     "name": "stdout",
     "output_type": "stream",
     "text": [
      "p\n",
      "y\n",
      "t\n",
      "h\n",
      "o\n",
      "n\n"
     ]
    }
   ],
   "source": [
    "word = \"python\"\n",
    "for w in word:\n",
    "    print(w)"
   ]
  },
  {
   "cell_type": "code",
   "execution_count": 149,
   "id": "d21c9319-93a8-4f53-8263-a6316b41a9a3",
   "metadata": {
    "scrolled": true
   },
   "outputs": [
    {
     "name": "stdout",
     "output_type": "stream",
     "text": [
      "10 is even number\n",
      "20 is even number\n",
      "30 is even number\n",
      "32 is even number\n",
      "41 is odd number\n",
      "53 is odd number\n"
     ]
    }
   ],
   "source": [
    "num = [10,20, 30, 32, 41, 53]\n",
    "for n in num:\n",
    "    if n % 2 == 0:\n",
    "        print(f\"{n} is even number\")\n",
    "    else:\n",
    "        print(f\"{n} is odd number\")\n",
    "        "
   ]
  },
  {
   "cell_type": "code",
   "execution_count": 3,
   "id": "eb3ea666-03c9-430c-a430-716f75092c14",
   "metadata": {},
   "outputs": [
    {
     "name": "stdout",
     "output_type": "stream",
     "text": [
      "apple\n",
      "banana\n",
      "mango\n",
      "watermalon\n"
     ]
    }
   ],
   "source": [
    "fruits = ['apple', 'banana', 'mango', 'watermalon']\n",
    "for i in fruits:\n",
    "    print(i)"
   ]
  },
  {
   "cell_type": "code",
   "execution_count": 7,
   "id": "57ffc0ac-d077-45c3-95f6-5a864f9f706e",
   "metadata": {},
   "outputs": [
    {
     "name": "stdout",
     "output_type": "stream",
     "text": [
      "#12th \n",
      "main\n",
      " road\n"
     ]
    }
   ],
   "source": [
    "s = '#12th main road'\n",
    "\n",
    "for i in s.partition('main'):\n",
    "    print(i)"
   ]
  },
  {
   "cell_type": "code",
   "execution_count": 13,
   "id": "4d99994c-06c6-467f-82fd-95e30ed44164",
   "metadata": {},
   "outputs": [
    {
     "name": "stdout",
     "output_type": "stream",
     "text": [
      "1\n",
      "3\n",
      "5\n",
      "7\n",
      "9\n",
      "11\n",
      "13\n",
      "15\n",
      "17\n",
      "19\n"
     ]
    }
   ],
   "source": [
    "for i in range(1,20,2):\n",
    "    print(i)"
   ]
  },
  {
   "cell_type": "code",
   "execution_count": 17,
   "id": "56195cc5-b7ff-4433-bfc0-40f80b396c98",
   "metadata": {},
   "outputs": [
    {
     "name": "stdout",
     "output_type": "stream",
     "text": [
      "red Apple pune\n",
      "red Apple mumbai\n",
      "red Apple delhi\n",
      "red Banana pune\n",
      "red Banana mumbai\n",
      "red Banana delhi\n",
      "red orange pune\n",
      "red orange mumbai\n",
      "red orange delhi\n",
      "blue Apple pune\n",
      "blue Apple mumbai\n",
      "blue Apple delhi\n",
      "blue Banana pune\n",
      "blue Banana mumbai\n",
      "blue Banana delhi\n",
      "blue orange pune\n",
      "blue orange mumbai\n",
      "blue orange delhi\n",
      "green Apple pune\n",
      "green Apple mumbai\n",
      "green Apple delhi\n",
      "green Banana pune\n",
      "green Banana mumbai\n",
      "green Banana delhi\n",
      "green orange pune\n",
      "green orange mumbai\n",
      "green orange delhi\n"
     ]
    }
   ],
   "source": [
    "a = ['red', 'blue', 'green']\n",
    "b = ['Apple', 'Banana', 'orange']\n",
    "c = ['pune', 'mumbai', 'delhi']\n",
    "for i in a:\n",
    "    for h in b:\n",
    "        for j in c:\n",
    "            print(i,h,j)"
   ]
  },
  {
   "cell_type": "code",
   "execution_count": 21,
   "id": "81a84117-0b26-4c7b-a15b-4581e2b59940",
   "metadata": {},
   "outputs": [
    {
     "name": "stdout",
     "output_type": "stream",
     "text": [
      "red Apple\n",
      "blue Banana\n",
      "green orange\n"
     ]
    }
   ],
   "source": [
    "a = ['red', 'blue', 'green']\n",
    "b = ['Apple', 'Banana', 'orange']\n",
    "for i,j in zip(a,b):\n",
    "    print(i,j)"
   ]
  },
  {
   "cell_type": "code",
   "execution_count": 29,
   "id": "41ee1bf2-c50c-423a-9346-f28df879ff79",
   "metadata": {},
   "outputs": [
    {
     "name": "stdout",
     "output_type": "stream",
     "text": [
      "Batch A of size 89 will attned maths\n",
      "Batch B of size 78 will attned maths\n",
      "Batch C of size 76 will attned maths\n",
      "Batch B of size 78 will attned maths\n",
      "Batch A of size 89 will attned data science\n",
      "Batch B of size 78 will attned data science\n",
      "Batch C of size 76 will attned data science\n",
      "Batch B of size 78 will attned data science\n",
      "Batch A of size 89 will attned economics\n",
      "Batch B of size 78 will attned economics\n",
      "Batch C of size 76 will attned economics\n",
      "Batch B of size 78 will attned economics\n",
      "Batch A of size 89 will attned social science\n",
      "Batch B of size 78 will attned social science\n",
      "Batch C of size 76 will attned social science\n",
      "Batch B of size 78 will attned social science\n"
     ]
    }
   ],
   "source": [
    "course = ['maths', 'data science', 'economics', 'social science']\n",
    "size=[89,78,76,78]\n",
    "batch = ('A', 'B', 'C', 'D', 'E')\n",
    "\n",
    "for i in course:\n",
    "    for k in size:\n",
    "        b_loc = size.index(k)\n",
    "        b = batch[b_loc]\n",
    "        print(f\"Batch {b} of size {k} will attned {i}\")"
   ]
  },
  {
   "cell_type": "markdown",
   "id": "5e16dddc-2aae-43ad-ab75-8cd6d356d13c",
   "metadata": {},
   "source": [
    "- WHILE LOOP :"
   ]
  },
  {
   "cell_type": "code",
   "execution_count": 18,
   "id": "74191079-0a2e-46d1-822d-a2021b528fa1",
   "metadata": {},
   "outputs": [
    {
     "name": "stdout",
     "output_type": "stream",
     "text": [
      "1\n",
      "2\n",
      "3\n",
      "4\n",
      "5\n",
      "6\n",
      "7\n",
      "8\n"
     ]
    }
   ],
   "source": [
    "i = 1\n",
    "while i <= 8:\n",
    "    print(i)\n",
    "    i += 1"
   ]
  },
  {
   "cell_type": "code",
   "execution_count": 5,
   "id": "8efb5d7a-1632-4e7d-8dce-62e09a3240e0",
   "metadata": {},
   "outputs": [
    {
     "name": "stdout",
     "output_type": "stream",
     "text": [
      "2\n",
      "3\n",
      "4\n",
      "5\n",
      "6\n",
      "7\n",
      "8\n",
      "9\n",
      "10\n",
      "11\n",
      "12\n",
      "13\n",
      "14\n",
      "16\n",
      "17\n",
      "18\n",
      "19\n",
      "20\n"
     ]
    }
   ],
   "source": [
    "i = 1\n",
    "while i<20:\n",
    "    i += 1\n",
    "    if i == 15:\n",
    "        continue \n",
    "    print(i)"
   ]
  },
  {
   "cell_type": "code",
   "execution_count": 11,
   "id": "dc966646-0aa7-4b2a-b69d-0c255cf9814c",
   "metadata": {},
   "outputs": [
    {
     "name": "stdout",
     "output_type": "stream",
     "text": [
      "[40, 80, 43, 25, 25, 80, 25, 30, 25, 43, 25]\n",
      "5\n"
     ]
    }
   ],
   "source": [
    "nums = [25, 40, 25, 80, 25, 43, 25 , 25 , 80 , 25, 30 , 25, 43 , 25]\n",
    "\n",
    "while 25 in nums:\n",
    "    nums.remove(25)\n",
    "    c = nums.count(25)\n",
    "    if c == 5:\n",
    "        break\n",
    "print(nums)    \n",
    "print(nums.count(25))"
   ]
  },
  {
   "cell_type": "code",
   "execution_count": 1,
   "id": "d099e0a8-393f-4007-9298-953a5b0ae9b8",
   "metadata": {},
   "outputs": [
    {
     "name": "stdout",
     "output_type": "stream",
     "text": [
      "square of 1 : 1\n",
      "square of 2 : 4\n",
      "square of 3 : 9\n",
      "itration skipped here\n",
      "itration skipped here\n",
      "square of 6 : 36\n",
      "square of 7 : 49\n",
      "square of 8 : 64\n"
     ]
    }
   ],
   "source": [
    "i = 0 \n",
    "while i<8:\n",
    "    i+=1\n",
    "    sq = i**2\n",
    "    if 10 < sq < 30:\n",
    "        print(\"itration skipped here\")\n",
    "        continue\n",
    "    print(f\"square of {i} : {sq}\")"
   ]
  },
  {
   "cell_type": "code",
   "execution_count": 5,
   "id": "f0bef022-74af-43bd-a6f7-e511b72ab61c",
   "metadata": {},
   "outputs": [
    {
     "name": "stdout",
     "output_type": "stream",
     "text": [
      "data science\n",
      "data science\n",
      "data science\n"
     ]
    }
   ],
   "source": [
    "count = 1\n",
    "while count <= 3:\n",
    "    count += 1\n",
    "    print(\"data science\")\n",
    "\n"
   ]
  },
  {
   "cell_type": "code",
   "execution_count": 11,
   "id": "910daf60-bd53-47ab-ae45-942e776ad3e3",
   "metadata": {},
   "outputs": [
    {
     "name": "stdout",
     "output_type": "stream",
     "text": [
      "1\n",
      "3\n",
      "5\n",
      "7\n",
      "9\n",
      "11\n",
      "13\n",
      "15\n",
      "17\n",
      "19\n"
     ]
    }
   ],
   "source": [
    "#odd numbers\n",
    "i = 0\n",
    "while i <= 20:\n",
    "    if i % 2 != 0:\n",
    "        print(i)\n",
    "    i += 1"
   ]
  },
  {
   "cell_type": "code",
   "execution_count": 1,
   "id": "4081be37-7be9-4608-adf8-7949e605b2a9",
   "metadata": {},
   "outputs": [
    {
     "name": "stdout",
     "output_type": "stream",
     "text": [
      "2\n",
      "4\n",
      "6\n",
      "8\n",
      "10\n",
      "12\n",
      "14\n",
      "16\n",
      "18\n",
      "20\n"
     ]
    }
   ],
   "source": [
    "# Even numbers\n",
    "i = 2\n",
    "while i <= 20:\n",
    "    if i % 2 == 0:\n",
    "        print(i)\n",
    "    i += 1"
   ]
  },
  {
   "cell_type": "code",
   "execution_count": 25,
   "id": "38d911cf-425e-4825-8038-75f12db3a9b2",
   "metadata": {},
   "outputs": [
    {
     "name": "stdin",
     "output_type": "stream",
     "text": [
      "Enter a number:  5\n"
     ]
    },
    {
     "name": "stdout",
     "output_type": "stream",
     "text": [
      "5 x 1 = 5\n",
      "5 x 2 = 10\n",
      "5 x 3 = 15\n",
      "5 x 4 = 20\n",
      "5 x 5 = 25\n",
      "5 x 6 = 30\n",
      "5 x 7 = 35\n",
      "5 x 8 = 40\n",
      "5 x 9 = 45\n",
      "5 x 10 = 50\n"
     ]
    }
   ],
   "source": [
    "#Multiplication table\n",
    "num = int(input(\"Enter a number: \"))\n",
    "i = 1\n",
    "while i <= 10:\n",
    "    print(f\"{num} x {i} = {num * i}\")\n",
    "    i += 1"
   ]
  },
  {
   "cell_type": "code",
   "execution_count": 27,
   "id": "d2bbd64a-8278-4f41-b1e2-2e3047bfa19b",
   "metadata": {},
   "outputs": [
    {
     "name": "stdout",
     "output_type": "stream",
     "text": [
      "10\n",
      "9\n",
      "8\n",
      "7\n",
      "6\n",
      "5\n",
      "4\n",
      "3\n",
      "2\n",
      "1\n"
     ]
    }
   ],
   "source": [
    "# Reverse number printing \n",
    "i = 10\n",
    "while i >= 1:\n",
    "    print(i)\n",
    "    i -= 1 "
   ]
  },
  {
   "cell_type": "markdown",
   "id": "5dbb2d2e-fd48-4e2e-a972-483ddbf1291a",
   "metadata": {},
   "source": [
    "- BREAK, CONTINUE, PASS :"
   ]
  },
  {
   "cell_type": "code",
   "execution_count": 48,
   "id": "a9c37c2d-03e7-4448-be53-108609cb313c",
   "metadata": {},
   "outputs": [
    {
     "name": "stdout",
     "output_type": "stream",
     "text": [
      "1\n",
      "2\n",
      "3\n"
     ]
    }
   ],
   "source": [
    "for num in range(1, 11):\n",
    "    if num == 4:\n",
    "        break \n",
    "    print(num)"
   ]
  },
  {
   "cell_type": "code",
   "execution_count": 44,
   "id": "4d1887de-f277-4be7-ae48-47c69bef32f3",
   "metadata": {},
   "outputs": [
    {
     "name": "stdout",
     "output_type": "stream",
     "text": [
      "1\n",
      "3\n",
      "5\n",
      "7\n",
      "9\n"
     ]
    }
   ],
   "source": [
    "i = 0\n",
    "while i < 10:\n",
    "    i += 1\n",
    "    if i % 2 == 0:\n",
    "        continue \n",
    "    print(i)"
   ]
  },
  {
   "cell_type": "code",
   "execution_count": 46,
   "id": "9c79be75-d1ab-4e4f-a4d0-6b29ff1dae13",
   "metadata": {},
   "outputs": [
    {
     "name": "stdout",
     "output_type": "stream",
     "text": [
      "0\n",
      "1\n",
      "2\n",
      "3\n",
      "4\n"
     ]
    }
   ],
   "source": [
    "for num in range(5):\n",
    "    if num == 3:\n",
    "        pass \n",
    "    print(num)"
   ]
  },
  {
   "cell_type": "code",
   "execution_count": 50,
   "id": "338bdb46-5e55-4a13-b244-b2767c38461c",
   "metadata": {},
   "outputs": [
    {
     "name": "stdout",
     "output_type": "stream",
     "text": [
      "[0, 4, 16, 36, 64]\n"
     ]
    }
   ],
   "source": [
    "#list Comprehension\n",
    "num = [x**2 for x in range(10) if x % 2 == 0] \n",
    "print(num)"
   ]
  },
  {
   "cell_type": "markdown",
   "id": "97a15584-3c1e-4dfb-85ae-da6fc9082a0e",
   "metadata": {
    "jp-MarkdownHeadingCollapsed": true
   },
   "source": [
    "# PACKAGES "
   ]
  },
  {
   "cell_type": "code",
   "execution_count": null,
   "id": "f399e9f5-a09f-4b4f-ad21-d1df6987797d",
   "metadata": {},
   "outputs": [],
   "source": [
    "import datetime"
   ]
  },
  {
   "cell_type": "code",
   "execution_count": 27,
   "id": "95c8f8da-4ade-40b3-ac28-c1b14db264af",
   "metadata": {},
   "outputs": [
    {
     "name": "stdout",
     "output_type": "stream",
     "text": [
      "1930-09-13\n"
     ]
    }
   ],
   "source": [
    "from datetime import date\n",
    "my_date = date(1930,9,13)\n",
    "print(my_date)"
   ]
  },
  {
   "cell_type": "code",
   "execution_count": 47,
   "id": "cb27683a-e535-4073-8239-7e58003d8989",
   "metadata": {},
   "outputs": [
    {
     "name": "stdout",
     "output_type": "stream",
     "text": [
      "2025-08-14\n",
      "3\n",
      "4\n",
      "2025-08-14 12:03:01.422689\n",
      "current year: 2025\n",
      "current month: 8\n",
      "current day: 14\n"
     ]
    }
   ],
   "source": [
    "import datetime\n",
    "today = date.today()\n",
    "print(today)\n",
    "print(today.weekday())\n",
    "print(today.isoweekday())\n",
    "print(datetime.datetime.now())\n",
    "print(\"current year:\",today.year)\n",
    "print(\"current month:\",today.month)\n",
    "print(\"current day:\",today.day)"
   ]
  },
  {
   "cell_type": "code",
   "execution_count": 69,
   "id": "56624304-2cfd-4032-93f9-a660e1fdd75b",
   "metadata": {},
   "outputs": [
    {
     "name": "stdout",
     "output_type": "stream",
     "text": [
      "2025-08-14\n",
      "16\n",
      "1\n",
      "2025-08-14 12:16:01.102668\n"
     ]
    }
   ],
   "source": [
    "from datetime import datetime as dt\n",
    "at_present = dt.now()\n",
    "print(dt.date(at_present))\n",
    "print(at_present.minute)\n",
    "print(at_present.second)\n",
    "print(at_present)"
   ]
  },
  {
   "cell_type": "code",
   "execution_count": 81,
   "id": "a6d5189d-0923-4614-bcb5-258dfb21a752",
   "metadata": {},
   "outputs": [
    {
     "name": "stdout",
     "output_type": "stream",
     "text": [
      "2025-08-14\n",
      "2027-08-14\n"
     ]
    }
   ],
   "source": [
    "from datetime import date, timedelta\n",
    "\n",
    "c_d = date.today()\n",
    "print(c_d)\n",
    "\n",
    "# By using timedelta we can predict future dates\n",
    "future_date_after_2years = c_d + timedelta(days=730)\n",
    "print(future_date_after_2years)"
   ]
  },
  {
   "cell_type": "code",
   "execution_count": null,
   "id": "b8bbe47b-49c0-4244-81a4-8116f7045989",
   "metadata": {},
   "outputs": [],
   "source": []
  },
  {
   "cell_type": "code",
   "execution_count": null,
   "id": "27d968a9-666b-4c7b-af05-5042bb89cd1c",
   "metadata": {},
   "outputs": [],
   "source": []
  },
  {
   "cell_type": "code",
   "execution_count": null,
   "id": "3e6da48b-d30b-43c1-99dc-becf5dff63d7",
   "metadata": {},
   "outputs": [],
   "source": []
  },
  {
   "cell_type": "markdown",
   "id": "c3e45a7a-160e-4ecd-84b9-af4fd3edc4d2",
   "metadata": {
    "jp-MarkdownHeadingCollapsed": true
   },
   "source": [
    "# FUNCTIONS\n",
    "- built in fuctions\n",
    "- user defined funtions\n",
    "- lambda(anonymous functions)"
   ]
  },
  {
   "cell_type": "code",
   "execution_count": 32,
   "id": "3b3e09fa-9f5b-47dc-ae0a-8b27b390967f",
   "metadata": {},
   "outputs": [
    {
     "data": {
      "text/plain": [
       "9"
      ]
     },
     "execution_count": 32,
     "metadata": {},
     "output_type": "execute_result"
    }
   ],
   "source": [
    "def add(a,b):\n",
    "    return a + b\n",
    "\n",
    "add(4,5)"
   ]
  },
  {
   "cell_type": "code",
   "execution_count": 40,
   "id": "f6464fe9-d5c0-4d4b-b354-dbde0027c29c",
   "metadata": {},
   "outputs": [
    {
     "name": "stdout",
     "output_type": "stream",
     "text": [
      "My name is pratik\n"
     ]
    }
   ],
   "source": [
    "def kkdd(name,age,salary,address):\n",
    "    print(f\"My name is {name}\")\n",
    "    print(f\"may age\", age)\n",
    "\n",
    "kkdd('pratik')"
   ]
  },
  {
   "cell_type": "code",
   "execution_count": 42,
   "id": "52780020-bde4-4bd2-8783-e3cac0d77ded",
   "metadata": {},
   "outputs": [
    {
     "name": "stdout",
     "output_type": "stream",
     "text": [
      "78.5\n"
     ]
    }
   ],
   "source": [
    "def are_of_circle(r):\n",
    "    area = 3.14*r*r\n",
    "    print(area)\n",
    "are_of_circle(5)"
   ]
  },
  {
   "cell_type": "code",
   "execution_count": 48,
   "id": "90cf8081-0133-4180-81e1-cbbbb0d5f398",
   "metadata": {},
   "outputs": [
    {
     "name": "stdout",
     "output_type": "stream",
     "text": [
      "Hello, Pratik!\n",
      "Hello, jagtap!\n"
     ]
    }
   ],
   "source": [
    "def greet(name):\n",
    "    return \"Hello, \" + name + \"!\"\n",
    "\n",
    "print(greet(\"Pratik\"))\n",
    "print(greet(\"jagtap\"))"
   ]
  },
  {
   "cell_type": "code",
   "execution_count": 2,
   "id": "1cbaa439-66fb-4c32-9503-6fb9682b2928",
   "metadata": {},
   "outputs": [
    {
     "name": "stdout",
     "output_type": "stream",
     "text": [
      "20\n"
     ]
    }
   ],
   "source": [
    "def multiply(a,b):\n",
    "    product = a * b\n",
    "    return product\n",
    "\n",
    "print(multiply(4,5)) "
   ]
  },
  {
   "cell_type": "code",
   "execution_count": 9,
   "id": "f1efbee1-be05-49f9-b5fc-75f678a17d4d",
   "metadata": {},
   "outputs": [
    {
     "name": "stdout",
     "output_type": "stream",
     "text": [
      "15\n"
     ]
    }
   ],
   "source": [
    "def calculate_area(length, width):\n",
    "    area = length * width\n",
    "    return area\n",
    "\n",
    "result = calculate_area(5,3)\n",
    "print(result)"
   ]
  },
  {
   "cell_type": "code",
   "execution_count": 1,
   "id": "b1cf4acd-ceb0-4b7d-81d2-c61ea31e5d00",
   "metadata": {},
   "outputs": [
    {
     "name": "stdout",
     "output_type": "stream",
     "text": [
      "2.0\n"
     ]
    },
    {
     "data": {
      "text/plain": [
       "2.0"
      ]
     },
     "execution_count": 1,
     "metadata": {},
     "output_type": "execute_result"
    }
   ],
   "source": [
    "def calc_avg(a,b,c):\n",
    "    sum = a + b + c\n",
    "    avg = sum / 3\n",
    "    return avg\n",
    "\n",
    "calc_avg(1,2,3)"
   ]
  },
  {
   "cell_type": "code",
   "execution_count": 58,
   "id": "540285a2-3db9-4536-810d-004108ca974f",
   "metadata": {},
   "outputs": [
    {
     "name": "stdin",
     "output_type": "stream",
     "text": [
      "Enter a number:  4\n"
     ]
    },
    {
     "name": "stdout",
     "output_type": "stream",
     "text": [
      "Number is even\n"
     ]
    }
   ],
   "source": [
    "def odd_even(n):\n",
    "    n = int(input(\"Enter a number: \"))\n",
    "    if n % 2 == 0:\n",
    "        return \"Number is even\"\n",
    "    else:\n",
    "        return \"Number is odd\"\n",
    "\n",
    "print(odd_even(n))"
   ]
  },
  {
   "cell_type": "code",
   "execution_count": 4,
   "id": "b0cf3532-1f2d-42ca-89fe-a4a8cb4b9af2",
   "metadata": {},
   "outputs": [
    {
     "name": "stdin",
     "output_type": "stream",
     "text": [
      " pyth\n"
     ]
    },
    {
     "name": "stdout",
     "output_type": "stream",
     "text": [
      "access denied\n"
     ]
    },
    {
     "name": "stdin",
     "output_type": "stream",
     "text": [
      " python123\n"
     ]
    },
    {
     "name": "stdout",
     "output_type": "stream",
     "text": [
      "access granted\n"
     ]
    }
   ],
   "source": [
    "passw = input(\"enter password\")\n",
    "while passw != 'python123':\n",
    "    print(\"access denied\")\n",
    "    passw = input(\"enter password\")\n",
    "print(\"access granted\")"
   ]
  },
  {
   "cell_type": "markdown",
   "id": "2140cc63-3657-4cf9-8ae1-a7a78bccb6e0",
   "metadata": {},
   "source": [
    "## Doc String"
   ]
  },
  {
   "cell_type": "code",
   "execution_count": 6,
   "id": "533d7383-598a-4683-bf77-da0996db2f5f",
   "metadata": {},
   "outputs": [
    {
     "name": "stdout",
     "output_type": "stream",
     "text": [
      "max(iterable, *[, default=obj, key=func]) -> value\n",
      "max(arg1, arg2, *args, *[, key=func]) -> value\n",
      "\n",
      "With a single iterable argument, return its biggest item. The\n",
      "default keyword-only argument specifies an object to return if\n",
      "the provided iterable is empty.\n",
      "With two or more arguments, return the largest argument.\n"
     ]
    }
   ],
   "source": [
    "print(max.__doc__)\n",
    "# print(min.__doc__)\n",
    "# print(print.__doc__)\n",
    "# print(type.__doc__)"
   ]
  },
  {
   "cell_type": "markdown",
   "id": "847d4f06-aaf0-4655-80d4-4828d975de65",
   "metadata": {
    "jp-MarkdownHeadingCollapsed": true
   },
   "source": [
    "# Lambda"
   ]
  },
  {
   "cell_type": "code",
   "execution_count": 20,
   "id": "84cedf4d-2e46-4f8d-b3e7-d9667849ee32",
   "metadata": {},
   "outputs": [
    {
     "name": "stdout",
     "output_type": "stream",
     "text": [
      "18\n"
     ]
    }
   ],
   "source": [
    "addition = lambda a : a + 10\n",
    "print(addition(8))"
   ]
  },
  {
   "cell_type": "code",
   "execution_count": 24,
   "id": "39fef48d-398d-441a-9003-13238d1f83a4",
   "metadata": {},
   "outputs": [
    {
     "name": "stdout",
     "output_type": "stream",
     "text": [
      "64\n"
     ]
    }
   ],
   "source": [
    "square = lambda a : a ** 2\n",
    "print(square(8))"
   ]
  },
  {
   "cell_type": "code",
   "execution_count": 26,
   "id": "3b5aa64c-c938-4457-a265-be5e042cee3a",
   "metadata": {},
   "outputs": [
    {
     "name": "stdout",
     "output_type": "stream",
     "text": [
      "6\n"
     ]
    }
   ],
   "source": [
    "product = lambda a, b : a * b\n",
    "print(product(2,3))"
   ]
  },
  {
   "cell_type": "code",
   "execution_count": 70,
   "id": "181e0e29-dc8b-4ed4-a46e-56b4bfd916e0",
   "metadata": {},
   "outputs": [
    {
     "name": "stdout",
     "output_type": "stream",
     "text": [
      "[1, 3, 5, 13]\n",
      "[0, 2, 8]\n"
     ]
    }
   ],
   "source": [
    "#Filter\n",
    "#Filter works on condition\n",
    "seq = [0,1,2,3,5,8,13]\n",
    "result1 = list(filter(lambda x: x % 2 != 0, seq))\n",
    "result2 = list(filter(lambda x: x % 2 == 0, seq))\n",
    "print(result1)\n",
    "print(result2)"
   ]
  },
  {
   "cell_type": "code",
   "execution_count": 48,
   "id": "e02cde33-7490-4027-8e39-a6cd86b23c6a",
   "metadata": {},
   "outputs": [
    {
     "name": "stdout",
     "output_type": "stream",
     "text": [
      "[0, 3, 6, 9]\n",
      "[0, 1, 8, 27, 64, 125, 216, 343, 512, 729]\n"
     ]
    }
   ],
   "source": [
    "num = [0,1,2,3,4,5,6,7,8,9]\n",
    "result1 = filter(lambda x : x % 3 == 0, num)\n",
    "result2 = map(lambda x : x ** 3, num)\n",
    "print(list(result1))\n",
    "print(list(result2))"
   ]
  },
  {
   "cell_type": "code",
   "execution_count": 50,
   "id": "eb62cda8-6bea-44ef-9b40-4b4199c31b2f",
   "metadata": {},
   "outputs": [
    {
     "name": "stdout",
     "output_type": "stream",
     "text": [
      "[1, 4, 9, 16]\n"
     ]
    }
   ],
   "source": [
    "#Map\n",
    "#Map works on every item and give change in items\n",
    "numbers = (1,2,3,4)\n",
    "result = map(lambda x : x * x, numbers)\n",
    "print(list(result))"
   ]
  },
  {
   "cell_type": "code",
   "execution_count": 54,
   "id": "ec2c21d1-59c2-4b52-b2b6-fc3bdfea0536",
   "metadata": {},
   "outputs": [
    {
     "name": "stdout",
     "output_type": "stream",
     "text": [
      "(2, 4, 6, 8)\n"
     ]
    }
   ],
   "source": [
    "#Without lambda map function\n",
    "def addition(n):\n",
    "    return n + n\n",
    "numbers = [1,2,3,4]\n",
    "result = map(addition, numbers)\n",
    "print(tuple(result))"
   ]
  },
  {
   "cell_type": "code",
   "execution_count": 56,
   "id": "e579d61b-efa8-43c1-8634-048217bf4bf1",
   "metadata": {},
   "outputs": [
    {
     "name": "stdout",
     "output_type": "stream",
     "text": [
      "[5, 7, 9]\n"
     ]
    }
   ],
   "source": [
    "num1 = [1,2,3]\n",
    "num2 = [4,5,6]\n",
    "\n",
    "r = map(lambda x, y : x + y, num1 ,num2)\n",
    "print(list(r))"
   ]
  },
  {
   "cell_type": "code",
   "execution_count": 68,
   "id": "036ec183-98a8-4044-88e3-60e32ed4003e",
   "metadata": {},
   "outputs": [
    {
     "name": "stdout",
     "output_type": "stream",
     "text": [
      "hello pratik.. How are you \n",
      "hello mrunal.. How are you \n"
     ]
    }
   ],
   "source": [
    "person = lambda name: print(f\"hello {name}.. How are you \")\n",
    "person('pratik')\n",
    "person('mrunal')"
   ]
  },
  {
   "cell_type": "code",
   "execution_count": 86,
   "id": "8eb6a43b-f808-40b3-b350-999e3939a5c1",
   "metadata": {},
   "outputs": [
    {
     "name": "stdout",
     "output_type": "stream",
     "text": [
      "the sum of the list elements is: 17\n",
      "maximum number of list: 6\n"
     ]
    }
   ],
   "source": [
    "# Reduce Function\n",
    "\n",
    "import functools\n",
    "lis = [1,3,5,6,2]\n",
    "print(\"the sum of the list elements is: \", end = \"\")\n",
    "print(functools.reduce(lambda a, b: a + b, lis))\n",
    "print(\"maximum number of list: \", end=\"\")\n",
    "print(functools.reduce(lambda a, b: a if a > b else b, lis))"
   ]
  },
  {
   "cell_type": "code",
   "execution_count": null,
   "id": "756145b7-8ebf-49e1-8cdf-886c9c90737d",
   "metadata": {},
   "outputs": [],
   "source": []
  },
  {
   "cell_type": "markdown",
   "id": "4c58e2bb-7903-4afd-b62a-d19aa82776fe",
   "metadata": {
    "jp-MarkdownHeadingCollapsed": true
   },
   "source": [
    "# File Handling"
   ]
  },
  {
   "cell_type": "code",
   "execution_count": null,
   "id": "89c09fb9-c098-4d7c-a051-230acb9e6d12",
   "metadata": {},
   "outputs": [],
   "source": [
    "f = open('text.txt','r') #to open file in read mode\n",
    "#but this cell will throw error because i haven't created any text.txt file"
   ]
  },
  {
   "cell_type": "code",
   "execution_count": null,
   "id": "d76060ea-88a1-4d65-9695-9a86557ca518",
   "metadata": {},
   "outputs": [],
   "source": [
    "f.read() #to open the content of file"
   ]
  },
  {
   "cell_type": "code",
   "execution_count": null,
   "id": "ac3c072e-a61f-4aea-94a0-3a00747fcc80",
   "metadata": {},
   "outputs": [],
   "source": [
    "f.close() # to close the file"
   ]
  },
  {
   "cell_type": "code",
   "execution_count": null,
   "id": "fdaf406f-06f5-4f21-8463-52856e9432d8",
   "metadata": {},
   "outputs": [],
   "source": [
    "s = \"this is a nice way to learn data science\""
   ]
  },
  {
   "cell_type": "code",
   "execution_count": null,
   "id": "4e45e6c1-a72d-4631-b4d9-bf7e967dca24",
   "metadata": {},
   "outputs": [],
   "source": [
    "f = open('harry.txt','w') #open file in write mode"
   ]
  },
  {
   "cell_type": "code",
   "execution_count": null,
   "id": "b86ad7bf-6c7f-41bf-824a-d753ecbfe2fe",
   "metadata": {},
   "outputs": [],
   "source": [
    "f.write(s) # this will write 's' text in harry.txt"
   ]
  },
  {
   "cell_type": "code",
   "execution_count": null,
   "id": "b5bba473-e315-4b0c-ac98-43ebfb501c33",
   "metadata": {},
   "outputs": [],
   "source": [
    "f.close() # after this we can see the output in harry.txt\n",
    "#This is the manual way to close the file"
   ]
  },
  {
   "cell_type": "code",
   "execution_count": null,
   "id": "ee851d12-a17f-4667-86b1-3de65266f3cb",
   "metadata": {},
   "outputs": [],
   "source": [
    "# With statement(best practice)\n",
    "\n",
    "with open(\"example.txt\", \"r\") as file:\n",
    "    content = file.read()\n",
    "    print(content)  # No need to manually close the file"
   ]
  },
  {
   "cell_type": "raw",
   "id": "98b7862e-2a9e-41d9-a8c1-b05f07c6944c",
   "metadata": {},
   "source": [
    "operation       Description                     Example\n",
    "\n",
    "1)Open file\t    Open a file\t                    file = open(\"example.txt\", \"r\")\n",
    "2)Read file\t    Read all content\t            file.read()\n",
    "3)Read line\t    Read one line\t                file.readline()\n",
    "4)Read lines\tRead all lines into list        file.readlines()\n",
    "5)Write file\tWrite content (overwrite)\t    file.write(\"Hello\")\n",
    "6)Append file\tAdd content to the end\t        file.write(\"\\nMore text\")\n",
    "7)Check file    Check before opening/deleting   os.path.exists(\"file.txt\")\n",
    "existence\t\t\n",
    "8)Delete file\tRemove a file\t                os.remove(\"file.txt\")"
   ]
  },
  {
   "cell_type": "code",
   "execution_count": null,
   "id": "c5c320a0-379b-454e-bd9d-3f656ebfad4b",
   "metadata": {},
   "outputs": [],
   "source": [
    "# this is used to check if a file exists before opening it.\n",
    "import os\n",
    "\n",
    "if os.path.exists(\"example.txt\"):\n",
    "    print(\"File exists!\")\n",
    "else:\n",
    "    print(\"File not found!\")"
   ]
  },
  {
   "cell_type": "code",
   "execution_count": null,
   "id": "8c20b5fc-4bc5-4a73-9e98-da5a926b6959",
   "metadata": {},
   "outputs": [],
   "source": [
    "# module to delete a file.\n",
    "import os\n",
    "\n",
    "if os.path.exists(\"example.txt\"):\n",
    "    os.remove(\"example.txt\")\n",
    "    print(\"File deleted.\")\n",
    "else:\n",
    "    print(\"File does not exist.\")"
   ]
  },
  {
   "cell_type": "code",
   "execution_count": null,
   "id": "7b6572cc-9598-48ff-99ad-938f9c7e5815",
   "metadata": {},
   "outputs": [],
   "source": [
    "# Reading a Binary File\n",
    "with open(\"image.jpg\", \"rb\") as file:\n",
    "    data = file.read()\n",
    "    print(data)  # Outputs binary content"
   ]
  },
  {
   "cell_type": "code",
   "execution_count": null,
   "id": "81906501-3562-45bb-a255-6ebdfa5545d8",
   "metadata": {},
   "outputs": [],
   "source": [
    "# Writing to a Binary File\n",
    "with open(\"new_image.jpg\", \"wb\") as file:\n",
    "    file.write(data)  # Writes binary content to a new file"
   ]
  },
  {
   "cell_type": "markdown",
   "id": "446be48b-d08c-4b21-aa02-1c2ffee23df9",
   "metadata": {},
   "source": [
    "# JSON Module"
   ]
  },
  {
   "cell_type": "markdown",
   "id": "3eb5a334-f640-4cca-b375-235b6d78cf37",
   "metadata": {},
   "source": [
    "#### Commen Json methods\n",
    " - json.dumps(obj) -> Converts Python object to JSON string -> eg. json.dumps(data)\n",
    " - json.dump(obj, file) -> Writes JSON to a file -> eg. json.dump(data, file)\n",
    " - json.loads(json_string) -> Converts JSON string to Python object -> eg. json.loads(json_data)\n",
    " - json.load(file) -> Reads JSON from a file -> eg. json.load(file)"
   ]
  },
  {
   "cell_type": "markdown",
   "id": "d27ac231-5278-46d8-b490-39b60335645c",
   "metadata": {},
   "source": [
    "1) Converting Python Objects to JSON (Serialization)"
   ]
  },
  {
   "cell_type": "code",
   "execution_count": 16,
   "id": "653c7d93-6076-4cd2-955e-5e860536fca4",
   "metadata": {},
   "outputs": [
    {
     "name": "stdout",
     "output_type": "stream",
     "text": [
      "{\"name\": \"Alice\", \"age\": 25, \"city\": \"New York\"}\n",
      "<class 'str'>\n"
     ]
    }
   ],
   "source": [
    "import json\n",
    "\n",
    "data = {\"name\": \"Alice\", \"age\": 25, \"city\": \"New York\"}\n",
    "\n",
    "json_string = json.dumps(data) #  Converts Python object to JSON string\n",
    "print(json_string)  \n",
    "print(type(json_string))  "
   ]
  },
  {
   "cell_type": "code",
   "execution_count": null,
   "id": "1a5de3d3-9f7b-460c-a683-62888c62bc45",
   "metadata": {},
   "outputs": [],
   "source": [
    "with open(\"data.json\", \"w\") as file:\n",
    "    json.dump(data, file) # Write JSON data to a file"
   ]
  },
  {
   "cell_type": "markdown",
   "id": "6662e886-2a9f-479f-b58b-85650b79a05b",
   "metadata": {},
   "source": [
    "2) Converting JSON to Python Objects (Deserialization)"
   ]
  },
  {
   "cell_type": "code",
   "execution_count": null,
   "id": "7fed4a7a-06c4-459e-bc5d-22edb41cb9d3",
   "metadata": {},
   "outputs": [],
   "source": [
    "json_data = '{\"name\": \"Alice\", \"age\": 25, \"city\": \"New York\"}'\n",
    "\n",
    "python_obj = json.loads(json_data) # Convert JSON string to Python object\n",
    "print(python_obj)  \n",
    "print(type(python_obj))  "
   ]
  },
  {
   "cell_type": "code",
   "execution_count": null,
   "id": "765adef9-2e9b-408e-90ea-04c32e4c9559",
   "metadata": {},
   "outputs": [],
   "source": [
    "with open(\"data.json\", \"r\") as file:\n",
    "    python_data = json.load(file) # Read JSON data from a file\n",
    "\n",
    "print(python_data) "
   ]
  },
  {
   "cell_type": "code",
   "execution_count": null,
   "id": "2d522e65-0ed5-47dc-b7d1-48fc878b9b0d",
   "metadata": {},
   "outputs": [],
   "source": [
    "formatted_json = json.dumps(data, indent=4) # Formatting JSON Output\n",
    "print(formatted_json)"
   ]
  },
  {
   "cell_type": "code",
   "execution_count": null,
   "id": "f4baeab7-6c2f-4f8b-ac44-1d35a79e44e8",
   "metadata": {},
   "outputs": [],
   "source": []
  }
 ],
 "metadata": {
  "kernelspec": {
   "display_name": "Python 3 (ipykernel)",
   "language": "python",
   "name": "python3"
  },
  "language_info": {
   "codemirror_mode": {
    "name": "ipython",
    "version": 3
   },
   "file_extension": ".py",
   "mimetype": "text/x-python",
   "name": "python",
   "nbconvert_exporter": "python",
   "pygments_lexer": "ipython3",
   "version": "3.12.4"
  }
 },
 "nbformat": 4,
 "nbformat_minor": 5
}
